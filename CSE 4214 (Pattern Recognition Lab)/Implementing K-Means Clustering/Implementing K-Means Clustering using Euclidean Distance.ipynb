{
 "cells": [
  {
   "cell_type": "code",
   "execution_count": 1,
   "id": "da8990d6",
   "metadata": {},
   "outputs": [],
   "source": [
    "import numpy as np\n",
    "import pandas as pd\n",
    "import matplotlib.pyplot as plt\n",
    "import random\n",
    "import math"
   ]
  },
  {
   "cell_type": "code",
   "execution_count": 2,
   "id": "0188c3e4",
   "metadata": {},
   "outputs": [],
   "source": [
    "df = pd.read_csv(\"data.txt\", sep=\" \", header=None, dtype=\"float\")\n",
    "df_row, df_col = df.shape\n",
    "data = np.array([[df[0][i] for i in range (df_row)], [df[1][i] for i in range (df_row)]])"
   ]
  },
  {
   "cell_type": "code",
   "execution_count": 3,
   "id": "4d644d8c",
   "metadata": {},
   "outputs": [],
   "source": [
    "random.seed(0)\n",
    "init1 = random.randint(0,df_row)\n",
    "init2 = random.randint(0,df_row)"
   ]
  },
  {
   "cell_type": "code",
   "execution_count": 4,
   "id": "9d2a1cda",
   "metadata": {},
   "outputs": [],
   "source": [
    "centroid1 = np.array([df[0][init1], df[1][init1]])\n",
    "centroid2 = np.array([df[0][init2], df[1][init2]])"
   ]
  },
  {
   "cell_type": "code",
   "execution_count": 5,
   "id": "df734481",
   "metadata": {},
   "outputs": [
    {
     "name": "stdout",
     "output_type": "stream",
     "text": [
      "Centroid1:  [8.70811 1.82278]\n",
      "Centroid2:  [-5.71827 -6.33688]\n"
     ]
    }
   ],
   "source": [
    "print(\"Centroid1: \", centroid1)\n",
    "print(\"Centroid2: \", centroid2)"
   ]
  },
  {
   "cell_type": "code",
   "execution_count": 6,
   "id": "9af8d1ec",
   "metadata": {},
   "outputs": [],
   "source": [
    "#Euclidean distance\n",
    "distance = np.array([[math.sqrt(((data[0][i] - centroid1[0]) * (data[0][i] - centroid1[0])) +\n",
    "                                ((data[1][i] - centroid1[1]) * (data[1][i] - centroid1[1])))\n",
    "                      for i in range(df_row)],\n",
    "\n",
    "                     [math.sqrt(((data[0][i] - centroid2[0]) * (data[0][i] - centroid2[0])) +\n",
    "                                ((data[1][i] - centroid2[1]) * (data[1][i] - centroid2[1])))\n",
    "                      for i in range(df_row)]])\n"
   ]
  },
  {
   "cell_type": "code",
   "execution_count": 7,
   "id": "8fe5e3e5",
   "metadata": {},
   "outputs": [],
   "source": [
    "classify = np.array([[1 if distance[0][i] < distance[1][i] else 0 for i in range(df_row)],\n",
    "                     [1 if distance[0][i] >= distance[1][i] else 0 for i in range(df_row)]])\n",
    "classify_prev = classify.copy()\n"
   ]
  },
  {
   "cell_type": "code",
   "execution_count": 8,
   "id": "cab8b6d2",
   "metadata": {},
   "outputs": [
    {
     "name": "stdout",
     "output_type": "stream",
     "text": [
      "Class1 points:  1000\n",
      "Class2 points:  2000\n",
      "Distance:  [[17.87797402 16.04047107 17.18624181 ...  2.79293986 17.92015853\n",
      "  16.43751391]\n",
      " [ 2.60786948  1.09545794  1.08663347 ... 13.99536955  3.43402769\n",
      "   0.34314601]]\n"
     ]
    }
   ],
   "source": [
    "i = 0\n",
    "print(\"Class1 points: \", np.count_nonzero(classify[0] == 1))\n",
    "print(\"Class2 points: \", np.count_nonzero(classify[1] == 1))\n",
    "print(\"Distance: \", distance)\n"
   ]
  },
  {
   "cell_type": "code",
   "execution_count": 9,
   "id": "f34511db",
   "metadata": {},
   "outputs": [
    {
     "name": "stdout",
     "output_type": "stream",
     "text": [
      "New Centroid1:  [7.21831715 0.78213112]\n",
      "New Centroid2:  [7.21831715 0.78213112]\n",
      "New Class1 points:  1000\n",
      "New Class2 points:  2000\n",
      "New Distance:  [[16.11220126 14.22456153 15.39123732 ...  1.14350455 16.18066516\n",
      "  14.63352344]\n",
      " [ 1.35762774  2.35516576  0.1758458  ... 14.7586032   2.22871542\n",
      "   1.10073685]]\n"
     ]
    }
   ],
   "source": [
    "while(True):\n",
    "    class1 = np.array([[data[0][i] for i in range(df_row) if classify[0][i] == 1],\n",
    "                       [data[1][i] for i in range(df_row) if classify[0][i] == 1]])\n",
    "\n",
    "    class2 = np.array([[data[0][i] for i in range(df_row) if classify[1][i] == 1],\n",
    "                       [data[1][i] for i in range(df_row) if classify[1][i] == 1]])\n",
    "\n",
    "    centroid1 = np.array([np.mean(class1[0]), np.mean(class1[1])])\n",
    "    centroid2 = np.array([np.mean(class2[0]), np.mean(class2[1])])\n",
    "\n",
    "    print(\"New Centroid1: \", centroid1)\n",
    "    print(\"New Centroid2: \", centroid1)\n",
    "\n",
    "    #Euclidean distance\n",
    "    distance = np.array([[math.sqrt(((data[0][i] - centroid1[0]) * (data[0][i] - centroid1[0])) +\n",
    "                                    ((data[1][i] - centroid1[1]) * (data[1][i] - centroid1[1])))\n",
    "                          for i in range(df_row)],\n",
    "\n",
    "                         [math.sqrt(((data[0][i] - centroid2[0]) * (data[0][i] - centroid2[0])) +\n",
    "                                    ((data[1][i] - centroid2[1]) * (data[1][i] - centroid2[1])))\n",
    "                          for i in range(df_row)]])\n",
    "\n",
    "    classify = np.array([[1 if distance[0][i] < distance[1][i] else 0 for i in range(df_row)],\n",
    "                         [1 if distance[0][i] >= distance[1][i] else 0 for i in range(df_row)]])\n",
    "\n",
    "    print(\"New Class1 points: \", np.count_nonzero(classify[0] == 1))\n",
    "    print(\"New Class2 points: \", np.count_nonzero(classify[1] == 1))\n",
    "    print(\"New Distance: \", distance)\n",
    "\n",
    "    if np.array_equal(classify, classify_prev):\n",
    "        break\n",
    "    classify_prev = classify.copy()\n"
   ]
  },
  {
   "cell_type": "code",
   "execution_count": 10,
   "id": "84a44346",
   "metadata": {},
   "outputs": [
    {
     "data": {
      "image/png": "[encoded data removed]",
      "text/plain": [
       "<Figure size 432x288 with 1 Axes>"
      ]
     },
     "metadata": {
      "needs_background": "light"
     },
     "output_type": "display_data"
    }
   ],
   "source": [
    "plt.scatter(class1[0], class1[1], color='green', label='Class 1', marker='o')\n",
    "plt.scatter(class2[0], class2[1], color='red', label='Class 2', marker='o')\n",
    "plt.legend(loc='upper left')\n",
    "plt.show()\n"
   ]
  },
  {
   "cell_type": "code",
   "execution_count": null,
   "id": "89b72147",
   "metadata": {},
   "outputs": [],
   "source": []
  },
  {
   "cell_type": "code",
   "execution_count": null,
   "id": "5b71486c",
   "metadata": {},
   "outputs": [],
   "source": []
  }
 ],
 "metadata": {
  "kernelspec": {
   "display_name": "Python 3",
   "language": "python",
   "name": "python3"
  },
  "language_info": {
   "codemirror_mode": {
    "name": "ipython",
    "version": 3
   },
   "file_extension": ".py",
   "mimetype": "text/x-python",
   "name": "python",
   "nbconvert_exporter": "python",
   "pygments_lexer": "ipython3",
   "version": "3.8.8"
  }
 },
 "nbformat": 4,
 "nbformat_minor": 5
}
