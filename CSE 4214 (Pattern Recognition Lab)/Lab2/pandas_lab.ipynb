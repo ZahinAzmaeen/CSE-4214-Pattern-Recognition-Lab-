{
 "cells": [
  {
   "cell_type": "code",
   "execution_count": 66,
   "metadata": {
    "colab": {
     "base_uri": "https://localhost:8080/"
    },
    "executionInfo": {
     "elapsed": 1039,
     "status": "ok",
     "timestamp": 1612069848897,
     "user": {
      "displayName": "Mir Arif Hasan",
      "photoUrl": "https://lh3.googleusercontent.com/a-/AOh14GiNjvGZAG8tJnCy_phDpy73meZel4hNEbYlvYAA=s64",
      "userId": "06472617898621004142"
     },
     "user_tz": -360
    },
    "id": "cKeg0cBfZbV_",
    "outputId": "e15d2877-776d-4610-f082-f7ff9510e719"
   },
   "outputs": [
    {
     "name": "stdout",
     "output_type": "stream",
     "text": [
      "\n",
      " [41.0, 50.0, 53.6, 57.2, 50.0, 73.4, 105.8, 86.0, 53.6, 75.2, 53.6, 64.4, 84.2] <class 'list'>\n",
      "\n",
      " {64.4, 73.4, 41.0, 105.8, 75.2, 50.0, 84.2, 53.6, 86.0, 57.2} <class 'set'>\n",
      "\n",
      "List comprehension [4, 16, 36, 64, 100, 144, 196, 256, 324, 400]\n",
      "\n",
      "Set comprehension {64, 256, 100, 4, 36, 196, 324, 16, 144, 400}\n"
     ]
    }
   ],
   "source": [
    "ctemps = [5, 10, 12, 14, 10, 23, 41, 30, 12, 24, 12, 18, 29]\n",
    "\n",
    "ftemps1 = [(t * 9/5) + 32 for t in ctemps]\n",
    "ftemps2 = {(t * 9/5) + 32 for t in ctemps}\n",
    "print(\"\\n\", ftemps1, type(ftemps1))\n",
    "print(\"\\n\", ftemps2, type(ftemps2))\n",
    "\n",
    "\n",
    "evens = [2, 4, 6, 8, 10, 12, 14, 16, 18, 20]\n",
    "\n",
    "list_evenSquared = [e ** 2 for e in evens]\n",
    "print(\"\\nList comprehension\", list_evenSquared)\n",
    "\n",
    "set_evenSquared = {e ** 2 for e in evens}\n",
    "print(\"\\nSet comprehension\", set_evenSquared)"
   ]
  },
  {
   "cell_type": "code",
   "execution_count": 67,
   "metadata": {
    "colab": {
     "base_uri": "https://localhost:8080/"
    },
    "executionInfo": {
     "elapsed": 1001,
     "status": "ok",
     "timestamp": 1612069851587,
     "user": {
      "displayName": "Mir Arif Hasan",
      "photoUrl": "https://lh3.googleusercontent.com/a-/AOh14GiNjvGZAG8tJnCy_phDpy73meZel4hNEbYlvYAA=s64",
      "userId": "06472617898621004142"
     },
     "user_tz": -360
    },
    "id": "LTtoD2XDZbWI",
    "outputId": "025e386a-cf2a-4a28-94d1-f3f276ef1a6d"
   },
   "outputs": [
    {
     "name": "stdout",
     "output_type": "stream",
     "text": [
      "Vertical stacking: [[1 2]\n",
      " [3 4]\n",
      " [5 6]\n",
      " [7 8]]\n",
      "Horizontal stacking: [[1 2 5 6]\n",
      " [3 4 7 8]]\n",
      "Column stacking: [[1 2 5]\n",
      " [3 4 6]]\n"
     ]
    }
   ],
   "source": [
    "import numpy as np\n",
    "\n",
    "a = np.array([[1, 2],\n",
    "              [3, 4]])\n",
    "\n",
    "b = np.array([[5, 6],\n",
    "              [7, 8]])\n",
    "\n",
    "print(\"Vertical stacking:\", np.vstack((a, b)))\n",
    "\n",
    "# horizontal stacking\n",
    "print(\"Horizontal stacking:\", np.hstack((a, b)))\n",
    "\n",
    "\n",
    "c = [5, 6]\n",
    "# stacking columns\n",
    "print(\"Column stacking:\", np.column_stack((a, c)))\n"
   ]
  },
  {
   "cell_type": "code",
   "execution_count": 68,
   "metadata": {
    "colab": {
     "base_uri": "https://localhost:8080/"
    },
    "executionInfo": {
     "elapsed": 1419,
     "status": "ok",
     "timestamp": 1612069855430,
     "user": {
      "displayName": "Mir Arif Hasan",
      "photoUrl": "https://lh3.googleusercontent.com/a-/AOh14GiNjvGZAG8tJnCy_phDpy73meZel4hNEbYlvYAA=s64",
      "userId": "06472617898621004142"
     },
     "user_tz": -360
    },
    "id": "6rU6Y4iXZbWN",
    "outputId": "b38a4e4d-f3cf-481a-d0eb-e9648cfd2e76"
   },
   "outputs": [
    {
     "name": "stdout",
     "output_type": "stream",
     "text": [
      "0     0\n",
      "1     1\n",
      "2     4\n",
      "3     9\n",
      "4    16\n",
      "5    25\n",
      "Name: squares, dtype: int64\n",
      "RangeIndex(start=0, stop=6, step=1)\n",
      "[ 0  1  4  9 16 25] RangeIndex(start=0, stop=6, step=1)\n",
      "2    4\n",
      "3    9\n",
      "Name: squares, dtype: int64\n"
     ]
    }
   ],
   "source": [
    "import pandas as pd\n",
    "import numpy as np\n",
    "s = pd.Series([0, 1, 4, 9, 16, 25], name='squares')\n",
    "print(s)\n",
    "print(s.index)\n",
    "print(s.values, s.index)\n",
    "print(s[2:4])"
   ]
  },
  {
   "cell_type": "code",
   "execution_count": 69,
   "metadata": {
    "colab": {
     "base_uri": "https://localhost:8080/"
    },
    "executionInfo": {
     "elapsed": 974,
     "status": "ok",
     "timestamp": 1612069858234,
     "user": {
      "displayName": "Mir Arif Hasan",
      "photoUrl": "https://lh3.googleusercontent.com/a-/AOh14GiNjvGZAG8tJnCy_phDpy73meZel4hNEbYlvYAA=s64",
      "userId": "06472617898621004142"
     },
     "user_tz": -360
    },
    "id": "lGVHXsTWZbWR",
    "outputId": "49de0056-a883-48ba-caa4-7707622e7e29"
   },
   "outputs": [
    {
     "name": "stdout",
     "output_type": "stream",
     "text": [
      "Java          100.0\n",
      "C              99.3\n",
      "C++            95.5\n",
      "Python         93.5\n",
      "C#             92.4\n",
      "PHP            84.8\n",
      "JavaScript     84.5\n",
      "Ruby           78.9\n",
      "R              74.3\n",
      "Matlab         72.8\n",
      "dtype: float64\n",
      "Java          100.0\n",
      "C              99.9\n",
      "C++            99.4\n",
      "Python         96.5\n",
      "C#             91.3\n",
      "R              84.8\n",
      "PHP            84.5\n",
      "JavaScript     83.0\n",
      "Ruby           76.2\n",
      "Matlab         72.4\n",
      "dtype: float64\n"
     ]
    }
   ],
   "source": [
    "pop2014 = pd.Series([100, 99.3, 95.5, 93.5, 92.4, 84.8, 84.5, 78.9, 74.3, 72.8],\n",
    "                    index=['Java', 'C', 'C++', 'Python', 'C#', 'PHP', 'JavaScript', 'Ruby', 'R', 'Matlab'])\n",
    "\n",
    "pop2015 = pd.Series({'Java': 100, 'C': 99.9, 'C++': 99.4, 'Python': 96.5, 'C#': 91.3,\n",
    "                     'R': 84.8, 'PHP': 84.5, 'JavaScript': 83.0, 'Ruby': 76.2, 'Matlab': 72.4})\n",
    "\n",
    "print(pop2014)\n",
    "\n",
    "print(pop2015) # index sort"
   ]
  },
  {
   "cell_type": "code",
   "execution_count": 70,
   "metadata": {
    "colab": {
     "base_uri": "https://localhost:8080/"
    },
    "executionInfo": {
     "elapsed": 932,
     "status": "ok",
     "timestamp": 1612069861127,
     "user": {
      "displayName": "Mir Arif Hasan",
      "photoUrl": "https://lh3.googleusercontent.com/a-/AOh14GiNjvGZAG8tJnCy_phDpy73meZel4hNEbYlvYAA=s64",
      "userId": "06472617898621004142"
     },
     "user_tz": -360
    },
    "id": "Rzs9zdYjZbWV",
    "outputId": "b62de838-57de-4ff6-f89b-c973a63eb877"
   },
   "outputs": [
    {
     "name": "stdout",
     "output_type": "stream",
     "text": [
      "Index(['Java', 'C', 'C++', 'Python', 'C#', 'PHP', 'JavaScript', 'Ruby', 'R',\n",
      "       'Matlab'],\n",
      "      dtype='object')\n",
      "Java    100.0\n",
      "C        99.3\n",
      "dtype: float64\n",
      "Java          100.0\n",
      "C              99.3\n",
      "C++            95.5\n",
      "Python         93.5\n",
      "C#             92.4\n",
      "PHP            84.8\n",
      "JavaScript     84.5\n",
      "Ruby           78.9\n",
      "dtype: float64\n"
     ]
    }
   ],
   "source": [
    "print(pop2014.index)\n",
    "print(pop2014.iloc[0:2])\n",
    "\n",
    "print(pop2014.loc[:'Ruby'])"
   ]
  },
  {
   "cell_type": "markdown",
   "metadata": {
    "id": "2drMMBSJZbWa"
   },
   "source": [
    "loc gets rows (or columns) with particular labels from the index.\n",
    "\n",
    "iloc gets rows (or columns) at particular positions in the index (so it only takes integers).\n",
    "\n",
    "ix usually tries to behave like loc but falls back to behaving like iloc if a label is not present in the index"
   ]
  },
  {
   "cell_type": "code",
   "execution_count": 71,
   "metadata": {
    "colab": {
     "base_uri": "https://localhost:8080/"
    },
    "executionInfo": {
     "elapsed": 1022,
     "status": "ok",
     "timestamp": 1612069863722,
     "user": {
      "displayName": "Mir Arif Hasan",
      "photoUrl": "https://lh3.googleusercontent.com/a-/AOh14GiNjvGZAG8tJnCy_phDpy73meZel4hNEbYlvYAA=s64",
      "userId": "06472617898621004142"
     },
     "user_tz": -360
    },
    "id": "vFRiIv_3ZbWb",
    "outputId": "6f1fb061-63c7-4fea-e7d3-bc3d0b5b2673"
   },
   "outputs": [
    {
     "name": "stdout",
     "output_type": "stream",
     "text": [
      "             2014   2015\n",
      "C            99.3   99.9\n",
      "C#           92.4   91.3\n",
      "C++          95.5   99.4\n",
      "Java        100.0  100.0\n",
      "JavaScript   84.5   83.0\n",
      "Matlab       72.8   72.4\n",
      "PHP          84.8   84.5\n",
      "Python       93.5   96.5\n",
      "R            74.3   84.8\n",
      "Ruby         78.9   76.2\n"
     ]
    }
   ],
   "source": [
    "twoyears = pd.DataFrame({'2014': pop2014, '2015': pop2015})\n",
    "print(twoyears)"
   ]
  },
  {
   "cell_type": "code",
   "execution_count": 72,
   "metadata": {
    "colab": {
     "base_uri": "https://localhost:8080/"
    },
    "executionInfo": {
     "elapsed": 977,
     "status": "ok",
     "timestamp": 1612069866313,
     "user": {
      "displayName": "Mir Arif Hasan",
      "photoUrl": "https://lh3.googleusercontent.com/a-/AOh14GiNjvGZAG8tJnCy_phDpy73meZel4hNEbYlvYAA=s64",
      "userId": "06472617898621004142"
     },
     "user_tz": -360
    },
    "id": "fHSzeb50ZbWg",
    "outputId": "a0186e04-f5b9-4064-c6b4-2191f1062799"
   },
   "outputs": [
    {
     "name": "stdout",
     "output_type": "stream",
     "text": [
      "             2014   2015  Average\n",
      "C            99.3   99.9    99.60\n",
      "C#           92.4   91.3    91.85\n",
      "C++          95.5   99.4    97.45\n",
      "Java        100.0  100.0   100.00\n",
      "JavaScript   84.5   83.0    83.75\n",
      "Matlab       72.8   72.4    72.60\n",
      "PHP          84.8   84.5    84.65\n",
      "Python       93.5   96.5    95.00\n",
      "R            74.3   84.8    79.55\n",
      "Ruby         78.9   76.2    77.55\n"
     ]
    }
   ],
   "source": [
    "twoyears['Average'] = 0.5*(twoyears['2014'] + twoyears['2015']) \n",
    "print(twoyears)"
   ]
  },
  {
   "cell_type": "code",
   "execution_count": 73,
   "metadata": {
    "colab": {
     "base_uri": "https://localhost:8080/"
    },
    "executionInfo": {
     "elapsed": 1240,
     "status": "ok",
     "timestamp": 1612069869237,
     "user": {
      "displayName": "Mir Arif Hasan",
      "photoUrl": "https://lh3.googleusercontent.com/a-/AOh14GiNjvGZAG8tJnCy_phDpy73meZel4hNEbYlvYAA=s64",
      "userId": "06472617898621004142"
     },
     "user_tz": -360
    },
    "id": "8aWxSiugZbWl",
    "outputId": "a9bc3ad6-d819-423f-d782-b366735b7cba"
   },
   "outputs": [
    {
     "name": "stdout",
     "output_type": "stream",
     "text": [
      "  AA BB CC\n",
      "1  e  a  a\n",
      "2  c  e  b\n",
      "3  a  a  c\n"
     ]
    }
   ],
   "source": [
    "test_data = pd.DataFrame(np.random.choice(['a', 'b', 'c', 'e'], (3, 3)), index=[1, 2, 3], columns=['AA', 'BB', 'CC'])\n",
    "print(test_data)"
   ]
  },
  {
   "cell_type": "markdown",
   "metadata": {
    "id": "n6zFURx-ZbWp"
   },
   "source": [
    "# pandas aggregation"
   ]
  },
  {
   "cell_type": "code",
   "execution_count": 74,
   "metadata": {
    "id": "oIgjA2p3ZbWq"
   },
   "outputs": [
    {
     "data": {
      "text/plain": [
       "['total_bill,tip,gender,smoker,day,time,size\\n',\n",
       " '16.99,1.01,Female,No,Sun,Dinner,2\\n',\n",
       " '10.34,1.66,Male,No,Sun,Dinner,3\\n',\n",
       " '21.01,3.5,Male,No,Sun,Dinner,3\\n',\n",
       " '23.68,3.31,Male,No,Sun,Dinner,2\\n',\n",
       " '24.59,3.61,Female,No,Sun,Dinner,4\\n',\n",
       " '25.29,4.71,Male,No,Sun,Dinner,4\\n',\n",
       " '8.77,2,Male,No,Sun,Dinner,2\\n',\n",
       " '26.88,3.12,Male,No,Sun,Dinner,4\\n',\n",
       " '15.04,1.96,Male,No,Sun,Dinner,2\\n']"
      ]
     },
     "execution_count": 74,
     "metadata": {},
     "output_type": "execute_result"
    }
   ],
   "source": [
    "open('tips.csv','r').readlines()[:10]"
   ]
  },
  {
   "cell_type": "code",
   "execution_count": 75,
   "metadata": {
    "id": "M4H10FsNZbW2"
   },
   "outputs": [],
   "source": [
    "tips = pd.read_csv('tips.csv')"
   ]
  },
  {
   "cell_type": "code",
   "execution_count": 76,
   "metadata": {
    "id": "yZWCmog_ZbW6"
   },
   "outputs": [
    {
     "data": {
      "text/html": [
       "<div>\n",
       "<style scoped>\n",
       "    .dataframe tbody tr th:only-of-type {\n",
       "        vertical-align: middle;\n",
       "    }\n",
       "\n",
       "    .dataframe tbody tr th {\n",
       "        vertical-align: top;\n",
       "    }\n",
       "\n",
       "    .dataframe thead th {\n",
       "        text-align: right;\n",
       "    }\n",
       "</style>\n",
       "<table border=\"1\" class=\"dataframe\">\n",
       "  <thead>\n",
       "    <tr style=\"text-align: right;\">\n",
       "      <th></th>\n",
       "      <th>total_bill</th>\n",
       "      <th>tip</th>\n",
       "      <th>gender</th>\n",
       "      <th>smoker</th>\n",
       "      <th>day</th>\n",
       "      <th>time</th>\n",
       "      <th>size</th>\n",
       "    </tr>\n",
       "  </thead>\n",
       "  <tbody>\n",
       "    <tr>\n",
       "      <th>0</th>\n",
       "      <td>16.99</td>\n",
       "      <td>1.01</td>\n",
       "      <td>Female</td>\n",
       "      <td>No</td>\n",
       "      <td>Sun</td>\n",
       "      <td>Dinner</td>\n",
       "      <td>2</td>\n",
       "    </tr>\n",
       "    <tr>\n",
       "      <th>1</th>\n",
       "      <td>10.34</td>\n",
       "      <td>1.66</td>\n",
       "      <td>Male</td>\n",
       "      <td>No</td>\n",
       "      <td>Sun</td>\n",
       "      <td>Dinner</td>\n",
       "      <td>3</td>\n",
       "    </tr>\n",
       "    <tr>\n",
       "      <th>2</th>\n",
       "      <td>21.01</td>\n",
       "      <td>3.50</td>\n",
       "      <td>Male</td>\n",
       "      <td>No</td>\n",
       "      <td>Sun</td>\n",
       "      <td>Dinner</td>\n",
       "      <td>3</td>\n",
       "    </tr>\n",
       "    <tr>\n",
       "      <th>3</th>\n",
       "      <td>23.68</td>\n",
       "      <td>3.31</td>\n",
       "      <td>Male</td>\n",
       "      <td>No</td>\n",
       "      <td>Sun</td>\n",
       "      <td>Dinner</td>\n",
       "      <td>2</td>\n",
       "    </tr>\n",
       "    <tr>\n",
       "      <th>4</th>\n",
       "      <td>24.59</td>\n",
       "      <td>3.61</td>\n",
       "      <td>Female</td>\n",
       "      <td>No</td>\n",
       "      <td>Sun</td>\n",
       "      <td>Dinner</td>\n",
       "      <td>4</td>\n",
       "    </tr>\n",
       "  </tbody>\n",
       "</table>\n",
       "</div>"
      ],
      "text/plain": [
       "   total_bill   tip  gender smoker  day    time  size\n",
       "0       16.99  1.01  Female     No  Sun  Dinner     2\n",
       "1       10.34  1.66    Male     No  Sun  Dinner     3\n",
       "2       21.01  3.50    Male     No  Sun  Dinner     3\n",
       "3       23.68  3.31    Male     No  Sun  Dinner     2\n",
       "4       24.59  3.61  Female     No  Sun  Dinner     4"
      ]
     },
     "execution_count": 76,
     "metadata": {},
     "output_type": "execute_result"
    }
   ],
   "source": [
    "tips.head()"
   ]
  },
  {
   "cell_type": "code",
   "execution_count": 77,
   "metadata": {
    "id": "2J8Bci4UZbW9"
   },
   "outputs": [
    {
     "data": {
      "text/plain": [
       "total_bill    19.785943\n",
       "tip            2.998279\n",
       "size           2.569672\n",
       "dtype: float64"
      ]
     },
     "execution_count": 77,
     "metadata": {},
     "output_type": "execute_result"
    }
   ],
   "source": [
    "tips.mean()"
   ]
  },
  {
   "cell_type": "code",
   "execution_count": 78,
   "metadata": {
    "id": "6r-YqZPnZbXB"
   },
   "outputs": [
    {
     "data": {
      "text/plain": [
       "total_bill    float64\n",
       "tip           float64\n",
       "gender         object\n",
       "smoker         object\n",
       "day            object\n",
       "time           object\n",
       "size            int64\n",
       "dtype: object"
      ]
     },
     "execution_count": 78,
     "metadata": {},
     "output_type": "execute_result"
    }
   ],
   "source": [
    "tips.dtypes"
   ]
  },
  {
   "cell_type": "code",
   "execution_count": 79,
   "metadata": {
    "id": "Wpj4yCjnZbXF"
   },
   "outputs": [
    {
     "data": {
      "text/html": [
       "<div>\n",
       "<style scoped>\n",
       "    .dataframe tbody tr th:only-of-type {\n",
       "        vertical-align: middle;\n",
       "    }\n",
       "\n",
       "    .dataframe tbody tr th {\n",
       "        vertical-align: top;\n",
       "    }\n",
       "\n",
       "    .dataframe thead th {\n",
       "        text-align: right;\n",
       "    }\n",
       "</style>\n",
       "<table border=\"1\" class=\"dataframe\">\n",
       "  <thead>\n",
       "    <tr style=\"text-align: right;\">\n",
       "      <th></th>\n",
       "      <th>total_bill</th>\n",
       "      <th>tip</th>\n",
       "      <th>size</th>\n",
       "    </tr>\n",
       "  </thead>\n",
       "  <tbody>\n",
       "    <tr>\n",
       "      <th>count</th>\n",
       "      <td>244.000000</td>\n",
       "      <td>244.000000</td>\n",
       "      <td>244.000000</td>\n",
       "    </tr>\n",
       "    <tr>\n",
       "      <th>mean</th>\n",
       "      <td>19.785943</td>\n",
       "      <td>2.998279</td>\n",
       "      <td>2.569672</td>\n",
       "    </tr>\n",
       "    <tr>\n",
       "      <th>std</th>\n",
       "      <td>8.902412</td>\n",
       "      <td>1.383638</td>\n",
       "      <td>0.951100</td>\n",
       "    </tr>\n",
       "    <tr>\n",
       "      <th>min</th>\n",
       "      <td>3.070000</td>\n",
       "      <td>1.000000</td>\n",
       "      <td>1.000000</td>\n",
       "    </tr>\n",
       "    <tr>\n",
       "      <th>25%</th>\n",
       "      <td>13.347500</td>\n",
       "      <td>2.000000</td>\n",
       "      <td>2.000000</td>\n",
       "    </tr>\n",
       "    <tr>\n",
       "      <th>50%</th>\n",
       "      <td>17.795000</td>\n",
       "      <td>2.900000</td>\n",
       "      <td>2.000000</td>\n",
       "    </tr>\n",
       "    <tr>\n",
       "      <th>75%</th>\n",
       "      <td>24.127500</td>\n",
       "      <td>3.562500</td>\n",
       "      <td>3.000000</td>\n",
       "    </tr>\n",
       "    <tr>\n",
       "      <th>max</th>\n",
       "      <td>50.810000</td>\n",
       "      <td>10.000000</td>\n",
       "      <td>6.000000</td>\n",
       "    </tr>\n",
       "  </tbody>\n",
       "</table>\n",
       "</div>"
      ],
      "text/plain": [
       "       total_bill         tip        size\n",
       "count  244.000000  244.000000  244.000000\n",
       "mean    19.785943    2.998279    2.569672\n",
       "std      8.902412    1.383638    0.951100\n",
       "min      3.070000    1.000000    1.000000\n",
       "25%     13.347500    2.000000    2.000000\n",
       "50%     17.795000    2.900000    2.000000\n",
       "75%     24.127500    3.562500    3.000000\n",
       "max     50.810000   10.000000    6.000000"
      ]
     },
     "execution_count": 79,
     "metadata": {},
     "output_type": "execute_result"
    }
   ],
   "source": [
    "tips.describe()"
   ]
  },
  {
   "cell_type": "code",
   "execution_count": 80,
   "metadata": {
    "id": "HW9ob6MxZbXJ"
   },
   "outputs": [
    {
     "data": {
      "text/plain": [
       "(244, 7)"
      ]
     },
     "execution_count": 80,
     "metadata": {},
     "output_type": "execute_result"
    }
   ],
   "source": [
    "tips.shape # row count"
   ]
  },
  {
   "cell_type": "code",
   "execution_count": 81,
   "metadata": {
    "id": "tbo_5uYAZbXN"
   },
   "outputs": [
    {
     "data": {
      "text/html": [
       "<div>\n",
       "<style scoped>\n",
       "    .dataframe tbody tr th:only-of-type {\n",
       "        vertical-align: middle;\n",
       "    }\n",
       "\n",
       "    .dataframe tbody tr th {\n",
       "        vertical-align: top;\n",
       "    }\n",
       "\n",
       "    .dataframe thead th {\n",
       "        text-align: right;\n",
       "    }\n",
       "</style>\n",
       "<table border=\"1\" class=\"dataframe\">\n",
       "  <thead>\n",
       "    <tr style=\"text-align: right;\">\n",
       "      <th></th>\n",
       "      <th>total_bill</th>\n",
       "      <th>tip</th>\n",
       "      <th>size</th>\n",
       "    </tr>\n",
       "    <tr>\n",
       "      <th>gender</th>\n",
       "      <th></th>\n",
       "      <th></th>\n",
       "      <th></th>\n",
       "    </tr>\n",
       "  </thead>\n",
       "  <tbody>\n",
       "    <tr>\n",
       "      <th>Female</th>\n",
       "      <td>18.056897</td>\n",
       "      <td>2.833448</td>\n",
       "      <td>2.459770</td>\n",
       "    </tr>\n",
       "    <tr>\n",
       "      <th>Male</th>\n",
       "      <td>20.744076</td>\n",
       "      <td>3.089618</td>\n",
       "      <td>2.630573</td>\n",
       "    </tr>\n",
       "  </tbody>\n",
       "</table>\n",
       "</div>"
      ],
      "text/plain": [
       "        total_bill       tip      size\n",
       "gender                                \n",
       "Female   18.056897  2.833448  2.459770\n",
       "Male     20.744076  3.089618  2.630573"
      ]
     },
     "execution_count": 81,
     "metadata": {},
     "output_type": "execute_result"
    }
   ],
   "source": [
    "tips.groupby('gender').mean()"
   ]
  },
  {
   "cell_type": "code",
   "execution_count": 82,
   "metadata": {
    "id": "43ERkB2nZbXS"
   },
   "outputs": [
    {
     "data": {
      "text/html": [
       "<div>\n",
       "<style scoped>\n",
       "    .dataframe tbody tr th:only-of-type {\n",
       "        vertical-align: middle;\n",
       "    }\n",
       "\n",
       "    .dataframe tbody tr th {\n",
       "        vertical-align: top;\n",
       "    }\n",
       "\n",
       "    .dataframe thead th {\n",
       "        text-align: right;\n",
       "    }\n",
       "</style>\n",
       "<table border=\"1\" class=\"dataframe\">\n",
       "  <thead>\n",
       "    <tr style=\"text-align: right;\">\n",
       "      <th></th>\n",
       "      <th></th>\n",
       "      <th>total_bill</th>\n",
       "      <th>tip</th>\n",
       "      <th>size</th>\n",
       "    </tr>\n",
       "    <tr>\n",
       "      <th>gender</th>\n",
       "      <th>smoker</th>\n",
       "      <th></th>\n",
       "      <th></th>\n",
       "      <th></th>\n",
       "    </tr>\n",
       "  </thead>\n",
       "  <tbody>\n",
       "    <tr>\n",
       "      <th rowspan=\"2\" valign=\"top\">Female</th>\n",
       "      <th>No</th>\n",
       "      <td>18.105185</td>\n",
       "      <td>2.773519</td>\n",
       "      <td>2.592593</td>\n",
       "    </tr>\n",
       "    <tr>\n",
       "      <th>Yes</th>\n",
       "      <td>17.977879</td>\n",
       "      <td>2.931515</td>\n",
       "      <td>2.242424</td>\n",
       "    </tr>\n",
       "    <tr>\n",
       "      <th rowspan=\"2\" valign=\"top\">Male</th>\n",
       "      <th>No</th>\n",
       "      <td>19.791237</td>\n",
       "      <td>3.113402</td>\n",
       "      <td>2.711340</td>\n",
       "    </tr>\n",
       "    <tr>\n",
       "      <th>Yes</th>\n",
       "      <td>22.284500</td>\n",
       "      <td>3.051167</td>\n",
       "      <td>2.500000</td>\n",
       "    </tr>\n",
       "  </tbody>\n",
       "</table>\n",
       "</div>"
      ],
      "text/plain": [
       "               total_bill       tip      size\n",
       "gender smoker                                \n",
       "Female No       18.105185  2.773519  2.592593\n",
       "       Yes      17.977879  2.931515  2.242424\n",
       "Male   No       19.791237  3.113402  2.711340\n",
       "       Yes      22.284500  3.051167  2.500000"
      ]
     },
     "execution_count": 82,
     "metadata": {},
     "output_type": "execute_result"
    }
   ],
   "source": [
    "tips.groupby(['gender','smoker']).mean()"
   ]
  },
  {
   "cell_type": "code",
   "execution_count": 83,
   "metadata": {
    "id": "12ptt8F4ZbXW"
   },
   "outputs": [
    {
     "data": {
      "text/html": [
       "<div>\n",
       "<style scoped>\n",
       "    .dataframe tbody tr th:only-of-type {\n",
       "        vertical-align: middle;\n",
       "    }\n",
       "\n",
       "    .dataframe tbody tr th {\n",
       "        vertical-align: top;\n",
       "    }\n",
       "\n",
       "    .dataframe thead th {\n",
       "        text-align: right;\n",
       "    }\n",
       "</style>\n",
       "<table border=\"1\" class=\"dataframe\">\n",
       "  <thead>\n",
       "    <tr style=\"text-align: right;\">\n",
       "      <th>smoker</th>\n",
       "      <th>No</th>\n",
       "      <th>Yes</th>\n",
       "    </tr>\n",
       "    <tr>\n",
       "      <th>gender</th>\n",
       "      <th></th>\n",
       "      <th></th>\n",
       "    </tr>\n",
       "  </thead>\n",
       "  <tbody>\n",
       "    <tr>\n",
       "      <th>Female</th>\n",
       "      <td>18.105185</td>\n",
       "      <td>17.977879</td>\n",
       "    </tr>\n",
       "    <tr>\n",
       "      <th>Male</th>\n",
       "      <td>19.791237</td>\n",
       "      <td>22.284500</td>\n",
       "    </tr>\n",
       "  </tbody>\n",
       "</table>\n",
       "</div>"
      ],
      "text/plain": [
       "smoker         No        Yes\n",
       "gender                      \n",
       "Female  18.105185  17.977879\n",
       "Male    19.791237  22.284500"
      ]
     },
     "execution_count": 83,
     "metadata": {},
     "output_type": "execute_result"
    }
   ],
   "source": [
    "pd.pivot_table(tips,'total_bill','gender','smoker')\n",
    "\n",
    "# pandas.pivot_table(data, values=None, index=None, columns=None, aggfunc='mean', \n",
    "#         fill_value=None, margins=False, dropna=True, margins_name='All')\n",
    "\n",
    "# Create a spreadsheet-style pivot table as a DataFrame."
   ]
  },
  {
   "cell_type": "code",
   "execution_count": 84,
   "metadata": {
    "id": "QE5q8AUTZbXZ"
   },
   "outputs": [
    {
     "data": {
      "text/html": [
       "<div>\n",
       "<style scoped>\n",
       "    .dataframe tbody tr th:only-of-type {\n",
       "        vertical-align: middle;\n",
       "    }\n",
       "\n",
       "    .dataframe tbody tr th {\n",
       "        vertical-align: top;\n",
       "    }\n",
       "\n",
       "    .dataframe thead tr th {\n",
       "        text-align: left;\n",
       "    }\n",
       "\n",
       "    .dataframe thead tr:last-of-type th {\n",
       "        text-align: right;\n",
       "    }\n",
       "</style>\n",
       "<table border=\"1\" class=\"dataframe\">\n",
       "  <thead>\n",
       "    <tr>\n",
       "      <th></th>\n",
       "      <th>day</th>\n",
       "      <th colspan=\"2\" halign=\"left\">Fri</th>\n",
       "      <th>Sat</th>\n",
       "      <th>Sun</th>\n",
       "      <th colspan=\"2\" halign=\"left\">Thur</th>\n",
       "    </tr>\n",
       "    <tr>\n",
       "      <th></th>\n",
       "      <th>time</th>\n",
       "      <th>Dinner</th>\n",
       "      <th>Lunch</th>\n",
       "      <th>Dinner</th>\n",
       "      <th>Dinner</th>\n",
       "      <th>Dinner</th>\n",
       "      <th>Lunch</th>\n",
       "    </tr>\n",
       "    <tr>\n",
       "      <th>gender</th>\n",
       "      <th>smoker</th>\n",
       "      <th></th>\n",
       "      <th></th>\n",
       "      <th></th>\n",
       "      <th></th>\n",
       "      <th></th>\n",
       "      <th></th>\n",
       "    </tr>\n",
       "  </thead>\n",
       "  <tbody>\n",
       "    <tr>\n",
       "      <th rowspan=\"2\" valign=\"top\">Female</th>\n",
       "      <th>No</th>\n",
       "      <td>22.750</td>\n",
       "      <td>15.980000</td>\n",
       "      <td>19.003846</td>\n",
       "      <td>20.824286</td>\n",
       "      <td>18.78</td>\n",
       "      <td>15.899167</td>\n",
       "    </tr>\n",
       "    <tr>\n",
       "      <th>Yes</th>\n",
       "      <td>12.200</td>\n",
       "      <td>13.260000</td>\n",
       "      <td>20.266667</td>\n",
       "      <td>16.540000</td>\n",
       "      <td>NaN</td>\n",
       "      <td>19.218571</td>\n",
       "    </tr>\n",
       "    <tr>\n",
       "      <th rowspan=\"2\" valign=\"top\">Male</th>\n",
       "      <th>No</th>\n",
       "      <td>17.475</td>\n",
       "      <td>NaN</td>\n",
       "      <td>19.929063</td>\n",
       "      <td>20.403256</td>\n",
       "      <td>NaN</td>\n",
       "      <td>18.486500</td>\n",
       "    </tr>\n",
       "    <tr>\n",
       "      <th>Yes</th>\n",
       "      <td>25.892</td>\n",
       "      <td>11.386667</td>\n",
       "      <td>21.837778</td>\n",
       "      <td>26.141333</td>\n",
       "      <td>NaN</td>\n",
       "      <td>19.171000</td>\n",
       "    </tr>\n",
       "  </tbody>\n",
       "</table>\n",
       "</div>"
      ],
      "text/plain": [
       "day               Fri                   Sat        Sun   Thur           \n",
       "time           Dinner      Lunch     Dinner     Dinner Dinner      Lunch\n",
       "gender smoker                                                           \n",
       "Female No      22.750  15.980000  19.003846  20.824286  18.78  15.899167\n",
       "       Yes     12.200  13.260000  20.266667  16.540000    NaN  19.218571\n",
       "Male   No      17.475        NaN  19.929063  20.403256    NaN  18.486500\n",
       "       Yes     25.892  11.386667  21.837778  26.141333    NaN  19.171000"
      ]
     },
     "execution_count": 84,
     "metadata": {},
     "output_type": "execute_result"
    }
   ],
   "source": [
    "pd.pivot_table(tips,'total_bill',['gender','smoker'],['day','time'])\n",
    "# pandas.pivot_table(data, values=None, index=None, columns=None, aggfunc='mean')\n"
   ]
  },
  {
   "cell_type": "markdown",
   "metadata": {
    "id": "LSxVcApKZbXd"
   },
   "source": [
    "# Data Frame Creation and visualization "
   ]
  },
  {
   "cell_type": "code",
   "execution_count": 85,
   "metadata": {
    "colab": {
     "base_uri": "https://localhost:8080/",
     "height": 204
    },
    "executionInfo": {
     "elapsed": 957,
     "status": "ok",
     "timestamp": 1612069892101,
     "user": {
      "displayName": "Mir Arif Hasan",
      "photoUrl": "https://lh3.googleusercontent.com/a-/AOh14GiNjvGZAG8tJnCy_phDpy73meZel4hNEbYlvYAA=s64",
      "userId": "06472617898621004142"
     },
     "user_tz": -360
    },
    "id": "5w4GhTBDZbXe",
    "outputId": "021551e8-904c-4d43-be94-7c8b177a9bf9"
   },
   "outputs": [
    {
     "data": {
      "text/html": [
       "<div>\n",
       "<style scoped>\n",
       "    .dataframe tbody tr th:only-of-type {\n",
       "        vertical-align: middle;\n",
       "    }\n",
       "\n",
       "    .dataframe tbody tr th {\n",
       "        vertical-align: top;\n",
       "    }\n",
       "\n",
       "    .dataframe thead th {\n",
       "        text-align: right;\n",
       "    }\n",
       "</style>\n",
       "<table border=\"1\" class=\"dataframe\">\n",
       "  <thead>\n",
       "    <tr style=\"text-align: right;\">\n",
       "      <th></th>\n",
       "      <th>0</th>\n",
       "      <th>1</th>\n",
       "      <th>2</th>\n",
       "      <th>3</th>\n",
       "      <th>4</th>\n",
       "    </tr>\n",
       "  </thead>\n",
       "  <tbody>\n",
       "    <tr>\n",
       "      <th>0</th>\n",
       "      <td>5.1</td>\n",
       "      <td>3.5</td>\n",
       "      <td>1.4</td>\n",
       "      <td>0.2</td>\n",
       "      <td>Iris-setosa</td>\n",
       "    </tr>\n",
       "    <tr>\n",
       "      <th>1</th>\n",
       "      <td>4.9</td>\n",
       "      <td>3.0</td>\n",
       "      <td>1.4</td>\n",
       "      <td>0.2</td>\n",
       "      <td>Iris-setosa</td>\n",
       "    </tr>\n",
       "    <tr>\n",
       "      <th>2</th>\n",
       "      <td>4.7</td>\n",
       "      <td>3.2</td>\n",
       "      <td>1.3</td>\n",
       "      <td>0.2</td>\n",
       "      <td>Iris-setosa</td>\n",
       "    </tr>\n",
       "    <tr>\n",
       "      <th>3</th>\n",
       "      <td>4.6</td>\n",
       "      <td>3.1</td>\n",
       "      <td>1.5</td>\n",
       "      <td>0.2</td>\n",
       "      <td>Iris-setosa</td>\n",
       "    </tr>\n",
       "    <tr>\n",
       "      <th>4</th>\n",
       "      <td>5.0</td>\n",
       "      <td>3.6</td>\n",
       "      <td>1.4</td>\n",
       "      <td>0.2</td>\n",
       "      <td>Iris-setosa</td>\n",
       "    </tr>\n",
       "  </tbody>\n",
       "</table>\n",
       "</div>"
      ],
      "text/plain": [
       "     0    1    2    3            4\n",
       "0  5.1  3.5  1.4  0.2  Iris-setosa\n",
       "1  4.9  3.0  1.4  0.2  Iris-setosa\n",
       "2  4.7  3.2  1.3  0.2  Iris-setosa\n",
       "3  4.6  3.1  1.5  0.2  Iris-setosa\n",
       "4  5.0  3.6  1.4  0.2  Iris-setosa"
      ]
     },
     "execution_count": 85,
     "metadata": {},
     "output_type": "execute_result"
    }
   ],
   "source": [
    "import pandas as pd\n",
    "from matplotlib import pyplot as plt\n",
    "url='http://archive.ics.uci.edu/ml/machine-learning-databases/iris/iris.data'\n",
    "df = pd.read_csv(url, header = None)\n",
    "\n",
    "df.head()"
   ]
  },
  {
   "cell_type": "code",
   "execution_count": 86,
   "metadata": {
    "colab": {
     "base_uri": "https://localhost:8080/",
     "height": 204
    },
    "executionInfo": {
     "elapsed": 1017,
     "status": "ok",
     "timestamp": 1612069895395,
     "user": {
      "displayName": "Mir Arif Hasan",
      "photoUrl": "https://lh3.googleusercontent.com/a-/AOh14GiNjvGZAG8tJnCy_phDpy73meZel4hNEbYlvYAA=s64",
      "userId": "06472617898621004142"
     },
     "user_tz": -360
    },
    "id": "2SyQ-jMGZbXk",
    "outputId": "9f9adfb3-8364-4868-8646-def5ed761dda"
   },
   "outputs": [
    {
     "data": {
      "text/html": [
       "<div>\n",
       "<style scoped>\n",
       "    .dataframe tbody tr th:only-of-type {\n",
       "        vertical-align: middle;\n",
       "    }\n",
       "\n",
       "    .dataframe tbody tr th {\n",
       "        vertical-align: top;\n",
       "    }\n",
       "\n",
       "    .dataframe thead th {\n",
       "        text-align: right;\n",
       "    }\n",
       "</style>\n",
       "<table border=\"1\" class=\"dataframe\">\n",
       "  <thead>\n",
       "    <tr style=\"text-align: right;\">\n",
       "      <th></th>\n",
       "      <th>sepal_length</th>\n",
       "      <th>sepal_width</th>\n",
       "      <th>petal_length</th>\n",
       "      <th>petal_width</th>\n",
       "      <th>flower_type</th>\n",
       "    </tr>\n",
       "  </thead>\n",
       "  <tbody>\n",
       "    <tr>\n",
       "      <th>0</th>\n",
       "      <td>5.1</td>\n",
       "      <td>3.5</td>\n",
       "      <td>1.4</td>\n",
       "      <td>0.2</td>\n",
       "      <td>0</td>\n",
       "    </tr>\n",
       "    <tr>\n",
       "      <th>1</th>\n",
       "      <td>4.9</td>\n",
       "      <td>3.0</td>\n",
       "      <td>1.4</td>\n",
       "      <td>0.2</td>\n",
       "      <td>0</td>\n",
       "    </tr>\n",
       "    <tr>\n",
       "      <th>2</th>\n",
       "      <td>4.7</td>\n",
       "      <td>3.2</td>\n",
       "      <td>1.3</td>\n",
       "      <td>0.2</td>\n",
       "      <td>0</td>\n",
       "    </tr>\n",
       "    <tr>\n",
       "      <th>3</th>\n",
       "      <td>4.6</td>\n",
       "      <td>3.1</td>\n",
       "      <td>1.5</td>\n",
       "      <td>0.2</td>\n",
       "      <td>0</td>\n",
       "    </tr>\n",
       "    <tr>\n",
       "      <th>4</th>\n",
       "      <td>5.0</td>\n",
       "      <td>3.6</td>\n",
       "      <td>1.4</td>\n",
       "      <td>0.2</td>\n",
       "      <td>0</td>\n",
       "    </tr>\n",
       "  </tbody>\n",
       "</table>\n",
       "</div>"
      ],
      "text/plain": [
       "   sepal_length  sepal_width  petal_length  petal_width flower_type\n",
       "0           5.1          3.5           1.4          0.2           0\n",
       "1           4.9          3.0           1.4          0.2           0\n",
       "2           4.7          3.2           1.3          0.2           0\n",
       "3           4.6          3.1           1.5          0.2           0\n",
       "4           5.0          3.6           1.4          0.2           0"
      ]
     },
     "execution_count": 86,
     "metadata": {},
     "output_type": "execute_result"
    }
   ],
   "source": [
    "df.columns = ['sepal_length','sepal_width','petal_length','petal_width','flower_type']\n",
    "df['flower_type'] = df['flower_type'].astype('category')\n",
    "df.flower_type = df.flower_type.cat.rename_categories([0,1,2])\n",
    "\n",
    "df.head()"
   ]
  },
  {
   "cell_type": "code",
   "execution_count": 87,
   "metadata": {
    "colab": {
     "base_uri": "https://localhost:8080/"
    },
    "executionInfo": {
     "elapsed": 1110,
     "status": "ok",
     "timestamp": 1612069897979,
     "user": {
      "displayName": "Mir Arif Hasan",
      "photoUrl": "https://lh3.googleusercontent.com/a-/AOh14GiNjvGZAG8tJnCy_phDpy73meZel4hNEbYlvYAA=s64",
      "userId": "06472617898621004142"
     },
     "user_tz": -360
    },
    "id": "09O09jt0ZbXn",
    "outputId": "779678db-5089-4889-bb6b-ee7352fcb04e"
   },
   "outputs": [
    {
     "data": {
      "text/plain": [
       "count     150\n",
       "unique      3\n",
       "top         0\n",
       "freq       50\n",
       "Name: flower_type, dtype: int64"
      ]
     },
     "execution_count": 87,
     "metadata": {},
     "output_type": "execute_result"
    }
   ],
   "source": [
    "df['flower_type'].describe()"
   ]
  },
  {
   "cell_type": "markdown",
   "metadata": {
    "id": "QkI_MvnHZbXq"
   },
   "source": [
    "s = pd.Series(['a', 'a', 'b', 'c'])\n",
    "\n",
    "s.describe()\n",
    "\n",
    "count     4\n",
    "unique    3\n",
    "top       a\n",
    "freq      2\n",
    "dtype: object\n",
    "\n",
    "https://pandas.pydata.org/pandas-docs/stable/reference/api/pandas.DataFrame.describe.html\n"
   ]
  },
  {
   "cell_type": "code",
   "execution_count": 88,
   "metadata": {
    "colab": {
     "base_uri": "https://localhost:8080/",
     "height": 281
    },
    "executionInfo": {
     "elapsed": 1365,
     "status": "ok",
     "timestamp": 1612069901430,
     "user": {
      "displayName": "Mir Arif Hasan",
      "photoUrl": "https://lh3.googleusercontent.com/a-/AOh14GiNjvGZAG8tJnCy_phDpy73meZel4hNEbYlvYAA=s64",
      "userId": "06472617898621004142"
     },
     "user_tz": -360
    },
    "id": "K46TCINvZbXr",
    "outputId": "480819aa-f9d2-4974-c946-d4df991efadc"
   },
   "outputs": [
    {
     "data": {
      "image/png": "[encoded data removed]",
      "text/plain": [
       "<Figure size 432x288 with 4 Axes>"
      ]
     },
     "metadata": {
      "needs_background": "light"
     },
     "output_type": "display_data"
    }
   ],
   "source": [
    "df.hist()\n",
    "plt.show()"
   ]
  },
  {
   "cell_type": "code",
   "execution_count": 89,
   "metadata": {
    "id": "L4OgUFvgZbXu"
   },
   "outputs": [
    {
     "ename": "AttributeError",
     "evalue": "module 'pandas' has no attribute 'scatter_matrix'",
     "output_type": "error",
     "traceback": [
      "\u001b[1;31m---------------------------------------------------------------------------\u001b[0m",
      "\u001b[1;31mAttributeError\u001b[0m                            Traceback (most recent call last)",
      "\u001b[1;32m<ipython-input-89-51e5059addb9>\u001b[0m in \u001b[0;36m<module>\u001b[1;34m\u001b[0m\n\u001b[1;32m----> 1\u001b[1;33m \u001b[0mpd\u001b[0m\u001b[1;33m.\u001b[0m\u001b[0mscatter_matrix\u001b[0m\u001b[1;33m(\u001b[0m\u001b[0mdf\u001b[0m\u001b[1;33m,\u001b[0m \u001b[0mdiagonal\u001b[0m\u001b[1;33m=\u001b[0m\u001b[1;34m'kde'\u001b[0m\u001b[1;33m)\u001b[0m\u001b[1;33m\u001b[0m\u001b[1;33m\u001b[0m\u001b[0m\n\u001b[0m\u001b[0;32m      2\u001b[0m \u001b[0mplt\u001b[0m\u001b[1;33m.\u001b[0m\u001b[0mshow\u001b[0m\u001b[1;33m(\u001b[0m\u001b[1;33m)\u001b[0m\u001b[1;33m\u001b[0m\u001b[1;33m\u001b[0m\u001b[0m\n",
      "\u001b[1;32mC:\\anaconda\\lib\\site-packages\\pandas\\__init__.py\u001b[0m in \u001b[0;36m__getattr__\u001b[1;34m(name)\u001b[0m\n\u001b[0;32m    242\u001b[0m         \u001b[1;32mreturn\u001b[0m \u001b[0m_SparseArray\u001b[0m\u001b[1;33m\u001b[0m\u001b[1;33m\u001b[0m\u001b[0m\n\u001b[0;32m    243\u001b[0m \u001b[1;33m\u001b[0m\u001b[0m\n\u001b[1;32m--> 244\u001b[1;33m     \u001b[1;32mraise\u001b[0m \u001b[0mAttributeError\u001b[0m\u001b[1;33m(\u001b[0m\u001b[1;34mf\"module 'pandas' has no attribute '{name}'\"\u001b[0m\u001b[1;33m)\u001b[0m\u001b[1;33m\u001b[0m\u001b[1;33m\u001b[0m\u001b[0m\n\u001b[0m\u001b[0;32m    245\u001b[0m \u001b[1;33m\u001b[0m\u001b[0m\n\u001b[0;32m    246\u001b[0m \u001b[1;33m\u001b[0m\u001b[0m\n",
      "\u001b[1;31mAttributeError\u001b[0m: module 'pandas' has no attribute 'scatter_matrix'"
     ]
    }
   ],
   "source": [
    "pd.scatter_matrix(df, diagonal='kde')\n",
    "plt.show()"
   ]
  },
  {
   "cell_type": "markdown",
   "metadata": {
    "id": "65dpLBfvZbX0"
   },
   "source": [
    "‘bar’ or ‘barh’ for bar plots\n",
    "‘hist’ for histogram\n",
    "‘box’ for boxplot\n",
    "‘kde’ or ‘density’ for density plots\n",
    "‘area’ for area plots\n",
    "‘scatter’ for scatter plots\n",
    "‘hexbin’ for hexagonal bin plots\n",
    "‘pie’ for pie plots\n",
    "https://pandas.pydata.org/pandas-docs/stable/user_guide/visualization.html#visualization-kde\n",
    "\n",
    "\n",
    "\n",
    "More general:\n",
    "http://pandas.pydata.org/pandas-docs/stable/user_guide/visualization.html\n"
   ]
  },
  {
   "cell_type": "code",
   "execution_count": null,
   "metadata": {
    "executionInfo": {
     "elapsed": 1393,
     "status": "ok",
     "timestamp": 1612069911129,
     "user": {
      "displayName": "Mir Arif Hasan",
      "photoUrl": "https://lh3.googleusercontent.com/a-/AOh14GiNjvGZAG8tJnCy_phDpy73meZel4hNEbYlvYAA=s64",
      "userId": "06472617898621004142"
     },
     "user_tz": -360
    },
    "id": "AmqgwBhsZbX1"
   },
   "outputs": [],
   "source": []
  },
  {
   "cell_type": "markdown",
   "metadata": {
    "id": "sSM7Dc4cZbX4"
   },
   "source": [
    "# More Operations on the Data Frame"
   ]
  },
  {
   "cell_type": "code",
   "execution_count": null,
   "metadata": {
    "colab": {
     "base_uri": "https://localhost:8080/",
     "height": 204
    },
    "executionInfo": {
     "elapsed": 940,
     "status": "ok",
     "timestamp": 1612069922444,
     "user": {
      "displayName": "Mir Arif Hasan",
      "photoUrl": "https://lh3.googleusercontent.com/a-/AOh14GiNjvGZAG8tJnCy_phDpy73meZel4hNEbYlvYAA=s64",
      "userId": "06472617898621004142"
     },
     "user_tz": -360
    },
    "id": "DiBTlmWlZbX5",
    "outputId": "3d924dd0-dd99-4c3c-eba0-e6a8a541d3cd"
   },
   "outputs": [],
   "source": [
    "df = df.sort_values(by='sepal_width')\n",
    "df.head()"
   ]
  },
  {
   "cell_type": "code",
   "execution_count": null,
   "metadata": {
    "id": "kTLU8aP4ZbX9"
   },
   "outputs": [],
   "source": [
    "# Normalizing your data set\n",
    "df=df.ix[:,0:4].apply( lambda f: ( f - f.mean() )/( f.max() - f.min() ) )\n",
    "df.hist()\n",
    "plt.show()"
   ]
  },
  {
   "cell_type": "code",
   "execution_count": null,
   "metadata": {
    "colab": {
     "base_uri": "https://localhost:8080/",
     "height": 204
    },
    "executionInfo": {
     "elapsed": 963,
     "status": "ok",
     "timestamp": 1612070039063,
     "user": {
      "displayName": "Mir Arif Hasan",
      "photoUrl": "https://lh3.googleusercontent.com/a-/AOh14GiNjvGZAG8tJnCy_phDpy73meZel4hNEbYlvYAA=s64",
      "userId": "06472617898621004142"
     },
     "user_tz": -360
    },
    "id": "mbqcfsUQZbYE",
    "outputId": "39acdefb-1d8c-4ef6-c4cc-98ac2c0e1a0e"
   },
   "outputs": [],
   "source": [
    "# Get a random sample from the data set\n",
    "df=df.sample(frac=1.0)\n",
    "df.head()"
   ]
  },
  {
   "cell_type": "code",
   "execution_count": null,
   "metadata": {
    "executionInfo": {
     "elapsed": 1029,
     "status": "ok",
     "timestamp": 1612070042450,
     "user": {
      "displayName": "Mir Arif Hasan",
      "photoUrl": "https://lh3.googleusercontent.com/a-/AOh14GiNjvGZAG8tJnCy_phDpy73meZel4hNEbYlvYAA=s64",
      "userId": "06472617898621004142"
     },
     "user_tz": -360
    },
    "id": "HUU0zwsNZbYH"
   },
   "outputs": [],
   "source": [
    "# Split the data set into test and train set\n",
    "train=df.sample(frac=0.8,random_state=123)\n",
    "test=df.drop(train.index)"
   ]
  },
  {
   "cell_type": "markdown",
   "metadata": {
    "id": "mr5bTivOZbYL"
   },
   "source": [
    "# Read/Write"
   ]
  },
  {
   "cell_type": "code",
   "execution_count": null,
   "metadata": {
    "id": "EPhe46OJZbYM"
   },
   "outputs": [],
   "source": [
    "df.to_csv('iris_normalized.csv')\n",
    "new_df = pd.read_csv('iris_normalized.csv')\n",
    "new_df.head()"
   ]
  },
  {
   "cell_type": "markdown",
   "metadata": {
    "collapsed": true,
    "id": "ks7dUkn3ZbYQ"
   },
   "source": [
    "# Deal with missing data "
   ]
  },
  {
   "cell_type": "code",
   "execution_count": null,
   "metadata": {
    "colab": {
     "base_uri": "https://localhost:8080/",
     "height": 173
    },
    "executionInfo": {
     "elapsed": 943,
     "status": "ok",
     "timestamp": 1612070070628,
     "user": {
      "displayName": "Mir Arif Hasan",
      "photoUrl": "https://lh3.googleusercontent.com/a-/AOh14GiNjvGZAG8tJnCy_phDpy73meZel4hNEbYlvYAA=s64",
      "userId": "06472617898621004142"
     },
     "user_tz": -360
    },
    "id": "fC0S6YZ-ZbYT",
    "outputId": "73aef7ea-f219-4dd2-9fd9-60d58b8e7e72"
   },
   "outputs": [],
   "source": [
    "import numpy as np\n",
    "df = pd.DataFrame([[np.nan, 2, np.nan, 0],\n",
    "                    [3, 4, np.nan, 1],\n",
    "                    [np.nan, np.nan, np.nan, 5],\n",
    "                    [np.nan, 3, np.nan, 4]],\n",
    "                    columns=list('ABCD'))\n",
    "df"
   ]
  },
  {
   "cell_type": "code",
   "execution_count": null,
   "metadata": {
    "colab": {
     "base_uri": "https://localhost:8080/",
     "height": 173
    },
    "executionInfo": {
     "elapsed": 970,
     "status": "ok",
     "timestamp": 1612070074642,
     "user": {
      "displayName": "Mir Arif Hasan",
      "photoUrl": "https://lh3.googleusercontent.com/a-/AOh14GiNjvGZAG8tJnCy_phDpy73meZel4hNEbYlvYAA=s64",
      "userId": "06472617898621004142"
     },
     "user_tz": -360
    },
    "id": "A1e0As2QZbYW",
    "outputId": "3c434ade-a4c7-4010-e667-e9e3fd070b78"
   },
   "outputs": [],
   "source": [
    "df.fillna(0)"
   ]
  },
  {
   "cell_type": "markdown",
   "metadata": {
    "id": "jl-k71MJZbYZ"
   },
   "source": [
    "https://pandas.pydata.org/pandas-docs/stable/reference/api/pandas.DataFrame.fillna.html#pandas.DataFrame.fillna"
   ]
  },
  {
   "cell_type": "code",
   "execution_count": null,
   "metadata": {
    "colab": {
     "base_uri": "https://localhost:8080/",
     "height": 142
    },
    "executionInfo": {
     "elapsed": 954,
     "status": "ok",
     "timestamp": 1612070081615,
     "user": {
      "displayName": "Mir Arif Hasan",
      "photoUrl": "https://lh3.googleusercontent.com/a-/AOh14GiNjvGZAG8tJnCy_phDpy73meZel4hNEbYlvYAA=s64",
      "userId": "06472617898621004142"
     },
     "user_tz": -360
    },
    "id": "Q3CyvAEhZbYb",
    "outputId": "8cdf9ee3-076b-445e-d881-1dfee028d227"
   },
   "outputs": [],
   "source": [
    " df = pd.DataFrame({\"name\": ['Alfred', 'Batman', 'Catwoman'],\n",
    "                    \"toy\": [np.nan, 'Batmobile', 'Bullwhip'],\n",
    "                    \"born\": [pd.NaT, pd.Timestamp(\"1940-04-25\"),\n",
    "                             pd.NaT]})\n",
    "df"
   ]
  },
  {
   "cell_type": "markdown",
   "metadata": {
    "id": "5m3F825OZbYi"
   },
   "source": [
    "In computer programming, a sentinel value (also referred to as a flag value, trip value, rogue value, signal value, or dummy data) is a special value in the context of an algorithm which uses its presence as a condition of termination, typically in a loop or recursive algorithm.\n",
    "\n",
    "floating-point NaN"
   ]
  },
  {
   "cell_type": "code",
   "execution_count": null,
   "metadata": {
    "colab": {
     "base_uri": "https://localhost:8080/",
     "height": 80
    },
    "executionInfo": {
     "elapsed": 997,
     "status": "ok",
     "timestamp": 1612070119760,
     "user": {
      "displayName": "Mir Arif Hasan",
      "photoUrl": "https://lh3.googleusercontent.com/a-/AOh14GiNjvGZAG8tJnCy_phDpy73meZel4hNEbYlvYAA=s64",
      "userId": "06472617898621004142"
     },
     "user_tz": -360
    },
    "id": "4qF4OTHkZbYj",
    "outputId": "fc34fc76-cef7-4535-ab36-22c01766d991"
   },
   "outputs": [],
   "source": [
    "df.dropna()"
   ]
  },
  {
   "cell_type": "markdown",
   "metadata": {
    "id": "hUSUxoDCZbYn"
   },
   "source": [
    "https://pandas.pydata.org/pandas-docs/stable/reference/api/pandas.DataFrame.dropna.html#pandas.DataFrame.dropna"
   ]
  },
  {
   "cell_type": "markdown",
   "metadata": {
    "id": "25-DC4b2ZbYo"
   },
   "source": [
    "# Features extraction"
   ]
  },
  {
   "cell_type": "markdown",
   "metadata": {
    "id": "FeAU3PReZbYo"
   },
   "source": [
    "# Text Features"
   ]
  },
  {
   "cell_type": "code",
   "execution_count": null,
   "metadata": {
    "colab": {
     "base_uri": "https://localhost:8080/"
    },
    "executionInfo": {
     "elapsed": 2144,
     "status": "ok",
     "timestamp": 1612070209063,
     "user": {
      "displayName": "Mir Arif Hasan",
      "photoUrl": "https://lh3.googleusercontent.com/a-/AOh14GiNjvGZAG8tJnCy_phDpy73meZel4hNEbYlvYAA=s64",
      "userId": "06472617898621004142"
     },
     "user_tz": -360
    },
    "id": "3CwqJLJeZbYp",
    "outputId": "39870cce-cdbb-4d34-fba7-b34d6a9ffb7d"
   },
   "outputs": [],
   "source": [
    "from sklearn.feature_extraction.text import CountVectorizer\n",
    "\n",
    "sample = ['sample of evil', 'evil queen', 'horizon problem']\n",
    "vec = CountVectorizer()\n",
    "X = vec.fit_transform(sample)\n",
    "# print(X.toarray())\n",
    "feature_extraction = pd.DataFrame(X.toarray(), columns=vec.get_feature_names())\n",
    "print(feature_extraction)"
   ]
  },
  {
   "cell_type": "code",
   "execution_count": null,
   "metadata": {
    "colab": {
     "base_uri": "https://localhost:8080/"
    },
    "executionInfo": {
     "elapsed": 1063,
     "status": "ok",
     "timestamp": 1612070214134,
     "user": {
      "displayName": "Mir Arif Hasan",
      "photoUrl": "https://lh3.googleusercontent.com/a-/AOh14GiNjvGZAG8tJnCy_phDpy73meZel4hNEbYlvYAA=s64",
      "userId": "06472617898621004142"
     },
     "user_tz": -360
    },
    "id": "q2PFhSLlZbYs",
    "outputId": "38ccdfa7-4852-4cbf-967f-44de8110c07e"
   },
   "outputs": [],
   "source": [
    "from sklearn.feature_extraction.text import TfidfVectorizer\n",
    "\n",
    "vec = TfidfVectorizer()\n",
    "X = vec.fit_transform(sample)\n",
    "feature_extraction = pd.DataFrame(X.toarray(), columns=vec.get_feature_names())\n",
    "print(feature_extraction)"
   ]
  },
  {
   "cell_type": "markdown",
   "metadata": {
    "id": "5mu7XXdAZbYv"
   },
   "source": [
    "# Derived Features"
   ]
  },
  {
   "cell_type": "code",
   "execution_count": null,
   "metadata": {
    "colab": {
     "base_uri": "https://localhost:8080/",
     "height": 265
    },
    "executionInfo": {
     "elapsed": 1152,
     "status": "ok",
     "timestamp": 1612071439682,
     "user": {
      "displayName": "Mir Arif Hasan",
      "photoUrl": "https://lh3.googleusercontent.com/a-/AOh14GiNjvGZAG8tJnCy_phDpy73meZel4hNEbYlvYAA=s64",
      "userId": "06472617898621004142"
     },
     "user_tz": -360
    },
    "id": "yaPATMxSZbYx",
    "outputId": "3f4287fa-2ba4-42e8-8d39-720f484befdd"
   },
   "outputs": [],
   "source": [
    "%matplotlib inline \n",
    "# For jupyter notebook only\n",
    "import numpy as np\n",
    "import matplotlib.pyplot as plt\n",
    "\n",
    "x = np.array([1, 2, 3, 4, 5])\n",
    "y = np.array([4, 2, 1, 3, 7])\n",
    "plt.scatter(x, y)\n",
    "plt.plot(x,y)\n",
    "plt.show()"
   ]
  },
  {
   "cell_type": "code",
   "execution_count": null,
   "metadata": {
    "colab": {
     "base_uri": "https://localhost:8080/",
     "height": 265
    },
    "executionInfo": {
     "elapsed": 1626,
     "status": "ok",
     "timestamp": 1612071448163,
     "user": {
      "displayName": "Mir Arif Hasan",
      "photoUrl": "https://lh3.googleusercontent.com/a-/AOh14GiNjvGZAG8tJnCy_phDpy73meZel4hNEbYlvYAA=s64",
      "userId": "06472617898621004142"
     },
     "user_tz": -360
    },
    "id": "36lV3yMJZbY5",
    "outputId": "fc0c772a-044f-4d86-e6af-2e2d09f3cfc9"
   },
   "outputs": [],
   "source": [
    "from sklearn.linear_model import LinearRegression\n",
    "x = np.array([1, 2, 3, 4, 5])\n",
    "y = np.array([4, 2, 1, 3, 7])\n",
    "X = x[:, np.newaxis]\n",
    "model = LinearRegression().fit(X, y)\n",
    "yfit = model.predict(X)\n",
    "plt.scatter(x,y)\n",
    "plt.plot(x, yfit)\n",
    "plt.show()"
   ]
  },
  {
   "cell_type": "code",
   "execution_count": null,
   "metadata": {
    "colab": {
     "base_uri": "https://localhost:8080/",
     "height": 486
    },
    "executionInfo": {
     "elapsed": 1222,
     "status": "ok",
     "timestamp": 1612071473465,
     "user": {
      "displayName": "Mir Arif Hasan",
      "photoUrl": "https://lh3.googleusercontent.com/a-/AOh14GiNjvGZAG8tJnCy_phDpy73meZel4hNEbYlvYAA=s64",
      "userId": "06472617898621004142"
     },
     "user_tz": -360
    },
    "id": "xVntMgGTZbY-",
    "outputId": "692770e1-7fd0-4b3f-9aa3-64ba3d7de326"
   },
   "outputs": [],
   "source": [
    "from sklearn.linear_model import LinearRegression\n",
    "from sklearn.preprocessing import PolynomialFeatures\n",
    "x = np.array([1, 2, 3, 4, 5])\n",
    "y = np.array([4, 2, 1, 3, 7])\n",
    "X = x[:, np.newaxis]\n",
    "print(\"X\\n\", X)\n",
    "poly = PolynomialFeatures(degree=3, include_bias=False)\n",
    "X2 = poly.fit_transform(X)\n",
    "# https://datascience.stackexchange.com/questions/12321/difference-between-fit-and-fit-transform-in-scikit-learn-models\n",
    "print(\"\\nX2\\n\", X2)\n",
    "\n",
    "\n",
    "model = LinearRegression().fit(X2, y)\n",
    "yfit = model.predict(X2)\n",
    "plt.scatter(x,y)\n",
    "plt.plot(x, yfit)\n",
    "plt.show()\n",
    "\n",
    "\n",
    "#     degree : integer\n",
    "#     The degree of the polynomial features\n",
    "\n",
    "#     include_bias : boolean\n",
    "#     If True (default), then include a bias column,\n",
    "#     the feature in which all polynomial powers are zero\n",
    "#     (i.e. a column of ones - acts as an intercept term in a linear model).\n",
    "\n",
    "\n",
    "#     rows = np.array([0, 3], dtype=np.intp)\n",
    "#     columns = np.array([0, 2], dtype=np.intp)\n",
    "#     rows[:, np.newaxis]\n",
    "#     array([[0],\n",
    "#        [3]])\n",
    "\n",
    "#     # intp\tInteger used for indexing (same as C ssize_t; normally either int32 or int64\n",
    "\n"
   ]
  },
  {
   "cell_type": "markdown",
   "metadata": {
    "id": "jlZ4GSHFZbZB"
   },
   "source": [
    "# Scipy"
   ]
  },
  {
   "cell_type": "markdown",
   "metadata": {
    "id": "tjke0So_ZbZC"
   },
   "source": [
    "• A collection of mathematical algorithms\n",
    "\n",
    "• Gives Python similar capabilities as Matlab\n",
    "\n",
    "• Many submodules are used for different domains\n",
    "\n",
    "• We will see examples from linalg and optimize submodules\n",
    "\n",
    "• For details: http://docs.scipy.org/doc/scipy/reference/tutorial/index.html"
   ]
  },
  {
   "cell_type": "markdown",
   "metadata": {
    "id": "byf-ub9aZbZD"
   },
   "source": [
    "linalg: Linear Algebra submodule\n",
    "\n",
    "Linear algebra submodule provides several routines for matrix computations.\n",
    "For example to find the inverse of matrix A"
   ]
  },
  {
   "cell_type": "code",
   "execution_count": null,
   "metadata": {
    "colab": {
     "base_uri": "https://localhost:8080/"
    },
    "executionInfo": {
     "elapsed": 964,
     "status": "ok",
     "timestamp": 1612071545040,
     "user": {
      "displayName": "Mir Arif Hasan",
      "photoUrl": "https://lh3.googleusercontent.com/a-/AOh14GiNjvGZAG8tJnCy_phDpy73meZel4hNEbYlvYAA=s64",
      "userId": "06472617898621004142"
     },
     "user_tz": -360
    },
    "id": "AQIHED4QZbZE",
    "outputId": "dfddf267-0c13-48c7-aa09-27a86dc1138b"
   },
   "outputs": [],
   "source": [
    "from scipy import linalg as la\n",
    "import numpy as np\n",
    "A = np.array([[5,3,5],[2,2,0], [1,3,1]])\n",
    "iA = la.inv(A)\n",
    "print(iA)"
   ]
  },
  {
   "cell_type": "markdown",
   "metadata": {
    "id": "Jzb99KmFZbZM"
   },
   "source": [
    "# Solving linear systems of equations\n",
    "Ax=b"
   ]
  },
  {
   "cell_type": "code",
   "execution_count": null,
   "metadata": {
    "colab": {
     "base_uri": "https://localhost:8080/"
    },
    "executionInfo": {
     "elapsed": 1075,
     "status": "ok",
     "timestamp": 1612071563217,
     "user": {
      "displayName": "Mir Arif Hasan",
      "photoUrl": "https://lh3.googleusercontent.com/a-/AOh14GiNjvGZAG8tJnCy_phDpy73meZel4hNEbYlvYAA=s64",
      "userId": "06472617898621004142"
     },
     "user_tz": -360
    },
    "id": "dTUsRGX8ZbZN",
    "outputId": "6dccc6f7-e066-4d49-ccce-7e61ba20655e"
   },
   "outputs": [],
   "source": [
    "A = np.array([[5,3,5], [2,2,0], [1,3,1]])\n",
    "b = np.array([ 2, 5, 1])\n",
    "x = la.solve(A,b)\n",
    "print('Solution:', x)\n",
    "# x = la.inv(A).dot(b) # same result"
   ]
  },
  {
   "cell_type": "markdown",
   "metadata": {
    "id": "4O1tk0iyZbZQ"
   },
   "source": [
    "# More Will Come..."
   ]
  },
  {
   "cell_type": "markdown",
   "metadata": {
    "collapsed": true,
    "id": "mRJ08-Y0ZbZT"
   },
   "source": [
    "# http://book.pythontips.com/en/latest/map_filter.html\n",
    "    \n",
    "map filter reduce"
   ]
  },
  {
   "cell_type": "code",
   "execution_count": null,
   "metadata": {
    "id": "cB-804jOZbZW"
   },
   "outputs": [],
   "source": []
  }
 ],
 "metadata": {
  "celltoolbar": "Raw Cell Format",
  "colab": {
   "name": "pandas_lab.ipynb",
   "provenance": []
  },
  "kernelspec": {
   "display_name": "Python 3",
   "language": "python",
   "name": "python3"
  },
  "language_info": {
   "codemirror_mode": {
    "name": "ipython",
    "version": 3
   },
   "file_extension": ".py",
   "mimetype": "text/x-python",
   "name": "python",
   "nbconvert_exporter": "python",
   "pygments_lexer": "ipython3",
   "version": "3.8.8"
  }
 },
 "nbformat": 4,
 "nbformat_minor": 1
}
