{
 "cells": [
  {
   "cell_type": "markdown",
   "metadata": {
    "id": "GDD0a45SMinx"
   },
   "source": [
    "#Numpy\n",
    "\n",
    "\n",
    "\tNumPy or Numeric Python is a package for computation on homogenous n-dimensional arrays.\n",
    "\tIn NumPy, dimensions are called as axes.\n",
    "\n",
    "\n",
    "\tWhy do we need NumPy? [when python lists are already there]\n",
    "\n",
    "\twe cannot perform operations on all the elements of two list directly.\n",
    "\tFor example, we cannot multiply two lists directly we will have to do it element wise. \n",
    "\tThis is where the role of NumPy comes into play.\n",
    "\n",
    "\n"
   ]
  },
  {
   "cell_type": "code",
   "execution_count": 1,
   "metadata": {
    "colab": {
     "base_uri": "https://localhost:8080/",
     "height": 197
    },
    "executionInfo": {
     "elapsed": 1799,
     "status": "error",
     "timestamp": 1611473997086,
     "user": {
      "displayName": "Mir Arif Hasan",
      "photoUrl": "https://lh3.googleusercontent.com/a-/AOh14GiNjvGZAG8tJnCy_phDpy73meZel4hNEbYlvYAA=s64",
      "userId": "06472617898621004142"
     },
     "user_tz": -360
    },
    "id": "a234y9AROdwP",
    "outputId": "5962aca1-909f-4d58-ea3a-c7af1637d6e2"
   },
   "outputs": [
    {
     "ename": "TypeError",
     "evalue": "can't multiply sequence by non-int of type 'list'",
     "output_type": "error",
     "traceback": [
      "\u001b[1;31m---------------------------------------------------------------------------\u001b[0m",
      "\u001b[1;31mTypeError\u001b[0m                                 Traceback (most recent call last)",
      "\u001b[1;32m<ipython-input-1-184a6b4240e1>\u001b[0m in \u001b[0;36m<module>\u001b[1;34m\u001b[0m\n\u001b[0;32m      3\u001b[0m \u001b[1;33m\u001b[0m\u001b[0m\n\u001b[0;32m      4\u001b[0m \u001b[1;33m\u001b[0m\u001b[0m\n\u001b[1;32m----> 5\u001b[1;33m \u001b[0mprint\u001b[0m\u001b[1;33m(\u001b[0m\u001b[0mlist1\u001b[0m\u001b[1;33m*\u001b[0m\u001b[0mlist2\u001b[0m\u001b[1;33m)\u001b[0m\u001b[1;33m\u001b[0m\u001b[1;33m\u001b[0m\u001b[0m\n\u001b[0m",
      "\u001b[1;31mTypeError\u001b[0m: can't multiply sequence by non-int of type 'list'"
     ]
    }
   ],
   "source": [
    "list1 = [1, 2, 3, 4 ,5, 6]\n",
    "list2 = [10, 9, 8, 7, 6, 5]\n",
    "\n",
    "\n",
    "print(list1*list2)"
   ]
  },
  {
   "cell_type": "code",
   "execution_count": null,
   "metadata": {
    "id": "KYz2b-DoOdY1"
   },
   "outputs": [],
   "source": [
    "import numpy as np"
   ]
  },
  {
   "cell_type": "code",
   "execution_count": null,
   "metadata": {
    "colab": {
     "base_uri": "https://localhost:8080/"
    },
    "executionInfo": {
     "elapsed": 926,
     "status": "ok",
     "timestamp": 1611474009081,
     "user": {
      "displayName": "Mir Arif Hasan",
      "photoUrl": "https://lh3.googleusercontent.com/a-/AOh14GiNjvGZAG8tJnCy_phDpy73meZel4hNEbYlvYAA=s64",
      "userId": "06472617898621004142"
     },
     "user_tz": -360
    },
    "id": "qNz__31PO_xe",
    "outputId": "904aaec2-d0bd-435d-be34-7d9d3fa36aff"
   },
   "outputs": [],
   "source": [
    "list1 = [1, 2, 3, 4, 5, 6] \n",
    "list2 = [10, 9, 8, 7, 6, 5] \n",
    "  \n",
    "# Convert list1 into a NumPy array \n",
    "a1 = np.array(list1) \n",
    "  \n",
    "# Convert list2 into a NumPy array \n",
    "a2 = np.array(list2) \n",
    "  \n",
    "print(a1*a2)"
   ]
  },
  {
   "cell_type": "code",
   "execution_count": null,
   "metadata": {
    "colab": {
     "base_uri": "https://localhost:8080/"
    },
    "executionInfo": {
     "elapsed": 946,
     "status": "ok",
     "timestamp": 1611474014459,
     "user": {
      "displayName": "Mir Arif Hasan",
      "photoUrl": "https://lh3.googleusercontent.com/a-/AOh14GiNjvGZAG8tJnCy_phDpy73meZel4hNEbYlvYAA=s64",
      "userId": "06472617898621004142"
     },
     "user_tz": -360
    },
    "id": "joFf4IcVPPSm",
    "outputId": "8ceae4f8-8a85-447b-9f5c-70c30b738206"
   },
   "outputs": [],
   "source": [
    "a = np.array([1, 2, 3, 4, 5])\n",
    "print(a, a.dtype, a.ndim, a.shape)\n",
    "\n",
    "a = np.array([1, 2, 3, 4, 5], dtype=np.float64)\n",
    "print(a, a.dtype, a.ndim, a.shape)\n",
    "\n",
    "a = np.zeros((3,3))\n",
    "print(a)\n",
    "\n",
    "a = np.empty((4,4))\n",
    "print(a)\n",
    "\n",
    "b = np.ones_like(a)\n",
    "print(b)"
   ]
  },
  {
   "cell_type": "code",
   "execution_count": null,
   "metadata": {
    "colab": {
     "base_uri": "https://localhost:8080/"
    },
    "executionInfo": {
     "elapsed": 920,
     "status": "ok",
     "timestamp": 1611474020421,
     "user": {
      "displayName": "Mir Arif Hasan",
      "photoUrl": "https://lh3.googleusercontent.com/a-/AOh14GiNjvGZAG8tJnCy_phDpy73meZel4hNEbYlvYAA=s64",
      "userId": "06472617898621004142"
     },
     "user_tz": -360
    },
    "id": "3WEYjBbNUSeo",
    "outputId": "2cd1b4c6-50a9-4b20-d69a-793f215947ef"
   },
   "outputs": [],
   "source": [
    "x = np.arange(6)\n",
    "x\n",
    "x = x.reshape((2, 3))\n",
    "x\n",
    "print(np.ones_like(x))\n"
   ]
  },
  {
   "cell_type": "code",
   "execution_count": null,
   "metadata": {
    "id": "rT78cr7rPjXn"
   },
   "outputs": [],
   "source": [
    "print(np.linspace(0, 10, 6))\n",
    "print(np.arange(0, 10, 2))\n",
    "\n",
    "\n",
    "a = np.arange(6)  \n",
    "print(a, \"np.arange\")\n",
    "\n",
    "b = np.arange(12).reshape(4,3) \n",
    "print(\"np.arange(12).reshape(4,3)\")\n",
    "print(b)\n",
    "\n",
    "c = np.arange(24).reshape(2,3,4)\n",
    "print(\"np.arange(24).reshape(2,3,4)\")\n",
    "print(c)\n",
    "\n",
    "\n",
    "b = np.arange(12).reshape(3,4)\n",
    "print(\"np.arange(12).reshape(3,4)\")\n",
    "print(b)\n"
   ]
  },
  {
   "cell_type": "markdown",
   "metadata": {
    "id": "_cUHyhIJQdQH"
   },
   "source": [
    "# Indexing using index arrays"
   ]
  },
  {
   "cell_type": "code",
   "execution_count": null,
   "metadata": {
    "id": "tDlGqB79USep"
   },
   "outputs": [],
   "source": [
    "b"
   ]
  },
  {
   "cell_type": "code",
   "execution_count": null,
   "metadata": {
    "id": "NwmZL1aPQ4i2"
   },
   "outputs": [],
   "source": [
    "print(b.sum(axis=0))                     # sum of each column\n",
    "\n",
    "print(b.min(axis=1))                           # min of each row"
   ]
  },
  {
   "cell_type": "code",
   "execution_count": null,
   "metadata": {
    "id": "snodft2yQpqg"
   },
   "outputs": [],
   "source": [
    "a = np.arange(10)**3\n",
    "print(a)\n",
    "# array([  0,   1,   8,  27,  64, 125, 216, 343, 512, 729])\n",
    "print(a[2])\n",
    "# 8\n",
    "print(a[2:5])\n",
    "# array([ 8, 27, 64])\n",
    "a[:6:2] = -1000    # equivalent to a[0:6:2] = -1000; from start to position 6, exclusive, set every 2nd element to -1000\n",
    "print(a)\n",
    "# array([-1000,     1, -1000,    27, -1000,   125,   216,   343,   512,   729])\n",
    "print(a[ : :-1])                                 # reversed a\n",
    "# array([  729,   512,   343,   216,   125, -1000,    27, -1000,     1, -1000])"
   ]
  },
  {
   "cell_type": "code",
   "execution_count": null,
   "metadata": {
    "id": "RX_Rgb4sSI_-"
   },
   "outputs": [],
   "source": [
    "a = np.array([[1, 2], \n",
    "              [3, 4]]) \n",
    "  \n",
    "b = np.array([[5, 6], \n",
    "              [7, 8]])\n",
    "\n",
    "print(\"Vertical stacking:\", np.vstack((a, b))) \n",
    "  \n",
    "# horizontal stacking \n",
    "print(\"Horizontal stacking:\", np.hstack((a, b))) \n",
    "  \n",
    "c = [5, 6] \n",
    "  \n",
    "# stacking columns \n",
    "print(\"Column stacking:\", np.column_stack((a, c)))\n",
    "\n",
    "\n",
    "\n",
    "a = np.array([[1, 3, 5, 7, 9, 11], \n",
    "              [2, 4, 6, 8, 10, 12]]) \n",
    "\n",
    "# horizontal splitting \n",
    "print(\"Splitting along horizontal axis into 2 parts:\", np.hsplit(a, 2)) \n",
    "  \n",
    "# vertical splitting \n",
    "print(\"Splitting along vertical axis into 2 parts:\", np.vsplit(a, 2))\n"
   ]
  },
  {
   "cell_type": "code",
   "execution_count": null,
   "metadata": {
    "id": "Z2QdgvlmSXpS"
   },
   "outputs": [],
   "source": [
    "a = np.arange(20, 10, -1)  \n",
    "print(\"sequential array with a negative step: \",a) \n",
    "  \n",
    "# Indexes are specified inside the np.array method. \n",
    "newnp = a[np.array([4, 3, 1, 2 ])] \n",
    "print(\"Elements: \",newnp)\n",
    "\n",
    "a = np.array([1, 2, 3, 4, 5, 6, 7, 8, 9]) \n",
    "  \n",
    "# Index values can be negative. \n",
    "arr = a[np.array([1, 3, -3])]\n",
    "print(\"Elements: \", arr)\n",
    "\n",
    "# [2 4 7]"
   ]
  },
  {
   "cell_type": "markdown",
   "metadata": {
    "id": "PFlHMje6NRcH"
   },
   "source": [
    "# numpy indexing and slicing\n",
    "\n",
    "\tThere are three kinds of indexing available: \n",
    "\t\trecord access, basic slicing, advanced indexing.\n",
    "\t\tWhich one occurs depends on object."
   ]
  },
  {
   "cell_type": "code",
   "execution_count": null,
   "metadata": {
    "id": "GxxjNUghS8ff"
   },
   "outputs": [],
   "source": [
    "a = np.arange(20) \n",
    "print(a) \n",
    "  \n",
    "# a[start:stop:step] \n",
    "print(a[-8:17:1])  \n",
    "  \n",
    "# The : operator means all elements till the end. \n",
    "print(a[10:])"
   ]
  },
  {
   "cell_type": "code",
   "execution_count": null,
   "metadata": {
    "id": "tNl6pqnHTLyt"
   },
   "outputs": [],
   "source": [
    "a = np.array([[1, 2, 3], \n",
    "              [4, 5, 6], \n",
    "              [7, 8, 9]])\n",
    "# print(a[:, 0]) # single row with 0 index column value\n",
    "# print(a[:, 1])\n",
    "# print(a[:, 2])\n",
    "\n",
    "# print(a[0, :])\n",
    "# print(a[1, :])\n",
    "\n",
    "print(a[0:2, 1:3]) # a[row, column]\n",
    "print(a[0:2, 0:2])"
   ]
  },
  {
   "cell_type": "code",
   "execution_count": null,
   "metadata": {
    "id": "gH-PwynsSxEc"
   },
   "outputs": [],
   "source": [
    "np.random.seed(10)\n",
    "vv = np.random.random((5, 4))\n",
    "print(vv)\n",
    "\n",
    "# print(vv[2:5, 1:2])\n",
    "# print(vv[2:5, 1])\n",
    "print(vv[2:-1, :])"
   ]
  },
  {
   "cell_type": "markdown",
   "metadata": {
    "id": "qtbY8EGdOA9t"
   },
   "source": [
    "# Advanced indexing\n",
    "\n",
    "\n",
    "\tPurely integer indexing:\n",
    "\t\tWhen integers are used for indexing.\n",
    "\t\tEach element of first dimension is paired with the element of the second dimension\n"
   ]
  },
  {
   "cell_type": "code",
   "execution_count": null,
   "metadata": {
    "id": "ACPRtO5mOMEc"
   },
   "outputs": [],
   "source": [
    "a = np.array([[1 ,2 ],[3 ,4 ],[5 ,6 ]]) \n",
    "print(a[[0 ,1 ,2 ],[0 ,0 ,1]])"
   ]
  },
  {
   "cell_type": "markdown",
   "metadata": {
    "id": "mVu9NzbWN-l5"
   },
   "source": [
    "#Boolean Indexing\n",
    "\n",
    "\t\n",
    "\t\tThis indexing has some boolean expression as the index. \n",
    "\t\tThose elements are returned which satisfy that Boolean expression.\n",
    "\t\tIt is used for filtering the desired element values.\n",
    "\n",
    "\n",
    "\n",
    "\n"
   ]
  },
  {
   "cell_type": "code",
   "execution_count": null,
   "metadata": {
    "id": "N8PowhlJORrm"
   },
   "outputs": [],
   "source": [
    "import numpy as np\n",
    "\n",
    "a = np.array([10, 40, 80, 50, 100]) \n",
    "# print(a[a>50])\n",
    "\n",
    "\n",
    "b = np.array([[5, 5],[4, 5],[16, 4]]) \n",
    "sumrow = b.sum(-1)\n",
    "# print(sumrow)\n",
    "print(b[sumrow%10==0])"
   ]
  },
  {
   "cell_type": "markdown",
   "metadata": {
    "id": "YSOi5WbZNskV"
   },
   "source": [
    "\n",
    "\n",
    "```\n",
    "a[start:end] # items start through end-1\n",
    "a[start:]    # items start through the rest of the array\n",
    "a[:end]      # items from the beginning through end-1\n",
    "a[:]         # a copy of the whole array\n",
    "# There is also the step value, which can be used with any of the above:\n",
    "```\n",
    "\n"
   ]
  },
  {
   "cell_type": "markdown",
   "metadata": {
    "id": "jj6riJ9SNbu0"
   },
   "source": [
    "```\n",
    "a[start:end:step] # start through not past end, by step\n",
    "\n",
    "\n",
    "a[-1]    # last item in the array\n",
    "a[-2:]   # last two items in the array\n",
    "a[:-2]   # everything except the last two items\n",
    "Similarly, step may be a negative number:\n",
    "\n",
    "a[::-1]    # all items in the array, reversed\n",
    "a[1::-1]   # the first two items, reversed\n",
    "a[:-3:-1]  # the last two items, reversed\n",
    "a[-3::-1]  # everything except the last two items, reversed\n",
    "```\n",
    "\n"
   ]
  },
  {
   "cell_type": "markdown",
   "metadata": {
    "id": "REkGOupFoL_y"
   },
   "source": [
    "#File read from local computer"
   ]
  },
  {
   "cell_type": "code",
   "execution_count": null,
   "metadata": {
    "id": "XfKGwWCPnqRu"
   },
   "outputs": [],
   "source": [
    "from google.colab import files\n",
    "uploaded = files.upload()"
   ]
  },
  {
   "cell_type": "code",
   "execution_count": 3,
   "metadata": {
    "id": "IRWVT7veTsXE",
    "scrolled": false
   },
   "outputs": [
    {
     "ename": "NameError",
     "evalue": "name 'uploaded' is not defined",
     "output_type": "error",
     "traceback": [
      "\u001b[1;31m---------------------------------------------------------------------------\u001b[0m",
      "\u001b[1;31mNameError\u001b[0m                                 Traceback (most recent call last)",
      "\u001b[1;32m<ipython-input-3-12957da8ad7a>\u001b[0m in \u001b[0;36m<module>\u001b[1;34m\u001b[0m\n\u001b[0;32m      1\u001b[0m \u001b[1;32mimport\u001b[0m \u001b[0mio\u001b[0m\u001b[1;33m\u001b[0m\u001b[1;33m\u001b[0m\u001b[0m\n\u001b[0;32m      2\u001b[0m \u001b[1;32mimport\u001b[0m \u001b[0mpandas\u001b[0m \u001b[1;32mas\u001b[0m \u001b[0mpd\u001b[0m\u001b[1;33m\u001b[0m\u001b[1;33m\u001b[0m\u001b[0m\n\u001b[1;32m----> 3\u001b[1;33m \u001b[0mdf\u001b[0m \u001b[1;33m=\u001b[0m \u001b[0mpd\u001b[0m\u001b[1;33m.\u001b[0m\u001b[0mread_csv\u001b[0m\u001b[1;33m(\u001b[0m\u001b[0mio\u001b[0m\u001b[1;33m.\u001b[0m\u001b[0mBytesIO\u001b[0m\u001b[1;33m(\u001b[0m\u001b[0muploaded\u001b[0m\u001b[1;33m[\u001b[0m\u001b[1;34m'train.txt'\u001b[0m\u001b[1;33m]\u001b[0m \u001b[1;33m)\u001b[0m\u001b[1;33m,\u001b[0m \u001b[0msep\u001b[0m\u001b[1;33m=\u001b[0m\u001b[1;34m\" \"\u001b[0m \u001b[1;33m,\u001b[0m  \u001b[0mheader\u001b[0m \u001b[1;33m=\u001b[0m \u001b[1;32mNone\u001b[0m\u001b[1;33m,\u001b[0m \u001b[0mdtype\u001b[0m \u001b[1;33m=\u001b[0m \u001b[1;34m'Int64'\u001b[0m\u001b[1;33m)\u001b[0m\u001b[1;33m\u001b[0m\u001b[1;33m\u001b[0m\u001b[0m\n\u001b[0m\u001b[0;32m      4\u001b[0m \u001b[0mprint\u001b[0m\u001b[1;33m(\u001b[0m\u001b[0mdf\u001b[0m\u001b[1;33m)\u001b[0m\u001b[1;33m\u001b[0m\u001b[1;33m\u001b[0m\u001b[0m\n",
      "\u001b[1;31mNameError\u001b[0m: name 'uploaded' is not defined"
     ]
    }
   ],
   "source": [
    "import io\n",
    "import pandas as pd\n",
    "df = pd.read_csv(io.BytesIO(uploaded['train.txt'] ), sep=\" \" ,  header = None, dtype = 'Int64')\n",
    "print(df)"
   ]
  },
  {
   "cell_type": "markdown",
   "metadata": {
    "id": "asCPnSkgoD7N"
   },
   "source": [
    "#File read from google drive"
   ]
  },
  {
   "cell_type": "code",
   "execution_count": null,
   "metadata": {
    "id": "6jQRNs0foAvo"
   },
   "outputs": [],
   "source": [
    "from google.colab import drive\n",
    "drive.mount('/content/drive')\n",
    "main_directory = '/content/drive/My Drive/Soft Computing/Assignment 1 HMM/train.txt'"
   ]
  },
  {
   "cell_type": "code",
   "execution_count": 2,
   "metadata": {
    "id": "RYy0fBvIU0LT"
   },
   "outputs": [
    {
     "ename": "NameError",
     "evalue": "name 'pd' is not defined",
     "output_type": "error",
     "traceback": [
      "\u001b[1;31m---------------------------------------------------------------------------\u001b[0m",
      "\u001b[1;31mNameError\u001b[0m                                 Traceback (most recent call last)",
      "\u001b[1;32m<ipython-input-2-e63a774bd3aa>\u001b[0m in \u001b[0;36m<module>\u001b[1;34m\u001b[0m\n\u001b[1;32m----> 1\u001b[1;33m \u001b[0mdf1\u001b[0m \u001b[1;33m=\u001b[0m \u001b[0mpd\u001b[0m\u001b[1;33m.\u001b[0m\u001b[0mread_csv\u001b[0m\u001b[1;33m(\u001b[0m\u001b[0mmain_directory\u001b[0m\u001b[1;33m,\u001b[0m \u001b[0msep\u001b[0m\u001b[1;33m=\u001b[0m\u001b[1;34m\" \"\u001b[0m \u001b[1;33m,\u001b[0m \u001b[0mheader\u001b[0m \u001b[1;33m=\u001b[0m \u001b[1;32mNone\u001b[0m\u001b[1;33m,\u001b[0m \u001b[0mdtype\u001b[0m \u001b[1;33m=\u001b[0m \u001b[1;34m'Int64'\u001b[0m\u001b[1;33m)\u001b[0m\u001b[1;33m\u001b[0m\u001b[1;33m\u001b[0m\u001b[0m\n\u001b[0m\u001b[0;32m      2\u001b[0m \u001b[0mprint\u001b[0m\u001b[1;33m(\u001b[0m\u001b[0mdf1\u001b[0m\u001b[1;33m)\u001b[0m\u001b[1;33m\u001b[0m\u001b[1;33m\u001b[0m\u001b[0m\n",
      "\u001b[1;31mNameError\u001b[0m: name 'pd' is not defined"
     ]
    }
   ],
   "source": [
    "df1 = pd.read_csv(main_directory, sep=\" \" , header = None, dtype = 'Int64')\n",
    "print(df1)"
   ]
  },
  {
   "cell_type": "code",
   "execution_count": null,
   "metadata": {
    "id": "zEkWzEaiVBH6"
   },
   "outputs": [],
   "source": []
  }
 ],
 "metadata": {
  "colab": {
   "name": "PR_Lab2.ipynb",
   "provenance": [
    {
     "file_id": "1zoEjKxeDOevNi1VVa3mmQ9c5CALeQCR3",
     "timestamp": 1582048815745
    }
   ]
  },
  "kernelspec": {
   "display_name": "Python 3",
   "language": "python",
   "name": "python3"
  },
  "language_info": {
   "codemirror_mode": {
    "name": "ipython",
    "version": 3
   },
   "file_extension": ".py",
   "mimetype": "text/x-python",
   "name": "python",
   "nbconvert_exporter": "python",
   "pygments_lexer": "ipython3",
   "version": "3.8.8"
  }
 },
 "nbformat": 4,
 "nbformat_minor": 1
}
