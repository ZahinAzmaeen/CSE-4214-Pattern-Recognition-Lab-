{
 "cells": [
  {
   "cell_type": "markdown",
   "id": "6530ee81",
   "metadata": {},
   "source": [
    "# Importing Necessary Libraries"
   ]
  },
  {
   "cell_type": "code",
   "execution_count": 1,
   "id": "60e1e6fa",
   "metadata": {},
   "outputs": [],
   "source": [
    "import numpy as np\n",
    "import pandas as pd\n",
    "import matplotlib.pyplot as plt"
   ]
  },
  {
   "cell_type": "markdown",
   "id": "20b2c914",
   "metadata": {},
   "source": [
    "# Reading Data From Train File"
   ]
  },
  {
   "cell_type": "code",
   "execution_count": 2,
   "id": "ccac509b",
   "metadata": {},
   "outputs": [],
   "source": [
    "train = pd.read_csv('train.txt', sep=' ', header = None)\n",
    "class1 = train[train.iloc[:,2]==1]\n",
    "# print(class1)\n",
    "class2 = train[train.iloc[:,2]==2]\n",
    "# print(class2)\n",
    "X1 = class1.iloc[:,0:2].values\n",
    "# print(X1)\n",
    "X2 = class2.iloc[:,0:2].values\n",
    "# print(X2)"
   ]
  },
  {
   "cell_type": "markdown",
   "id": "8f918534",
   "metadata": {},
   "source": [
    "# Reading Data From Test File"
   ]
  },
  {
   "cell_type": "code",
   "execution_count": 3,
   "id": "a88c7e5f",
   "metadata": {},
   "outputs": [],
   "source": [
    "test = pd.read_csv('test.txt', sep=' ', header = None)\n",
    "X_val = test.iloc[:,0:2].values\n",
    "Y_val = test.iloc[:,2].values\n",
    "# print(X_val,Y_val)"
   ]
  },
  {
   "cell_type": "markdown",
   "id": "2957d8fa",
   "metadata": {},
   "source": [
    "# Calculating g(X)"
   ]
  },
  {
   "cell_type": "code",
   "execution_count": 4,
   "id": "6f36d672",
   "metadata": {},
   "outputs": [],
   "source": [
    "mean1 = np.mean(X1,axis=0)\n",
    "mean2 = np.mean(X2,axis=0)\n",
    "# print(mean1,mean2)\n",
    "mean1 = mean1.reshape(2,1)\n",
    "mean2 = mean2.reshape(2,1)\n",
    "# print(mean1,mean2)\n",
    "\n",
    "gx1,gx2 = ([],[])\n",
    "for i in range(len(X_val)):\n",
    "    gx1.append(np.matmul(np.transpose(X_val[i]),mean1) - (np.matmul(np.transpose(mean1), mean1))/2)\n",
    "    gx2.append(np.matmul(np.transpose(X_val[i]),mean2) - (np.matmul(np.transpose(mean2), mean2))/2) \n",
    "# print(gx1,gx2)"
   ]
  },
  {
   "cell_type": "markdown",
   "id": "df9810d1",
   "metadata": {},
   "source": [
    "# Predicting Class"
   ]
  },
  {
   "cell_type": "code",
   "execution_count": 5,
   "id": "75b2ed7d",
   "metadata": {},
   "outputs": [],
   "source": [
    "list1, list2, list3 = ([],[],[])\n",
    "\n",
    "for i in range(len(X_val)):\n",
    "    if(gx1[i]>gx2[i]):\n",
    "        list1.append(X_val[i])\n",
    "        list3.append(1)\n",
    "    else:\n",
    "        list2.append(X_val[i])\n",
    "        list3.append(2)\n",
    "# print(list1,list2,list3)\n",
    "XL1 = np.array(list1)\n",
    "XL2 = np.array(list2)\n",
    "preds = np.array(list3)\n",
    "# print(XL1,XL2,preds)"
   ]
  },
  {
   "cell_type": "markdown",
   "id": "21f63bbc",
   "metadata": {},
   "source": [
    "# Calculating Decision Boundary"
   ]
  },
  {
   "cell_type": "code",
   "execution_count": 6,
   "id": "b9e92232",
   "metadata": {},
   "outputs": [],
   "source": [
    "x , y= ([],[])\n",
    "constant = (np.matmul(np.transpose(mean1),mean1) - np.matmul(np.transpose(mean2),mean2))/2\n",
    "# print(constant)\n",
    "\n",
    "for i in range(-4,8):\n",
    "    x.append(i)\n",
    "    y.append((-(i*(mean1[0]- mean2[0]) - constant)/(mean1[1]- mean2[1])).item())\n",
    "    \n",
    "# print(x,y)"
   ]
  },
  {
   "cell_type": "markdown",
   "id": "a6eab054",
   "metadata": {},
   "source": [
    "# Plotting Points and Decision Boundary"
   ]
  },
  {
   "cell_type": "code",
   "execution_count": 7,
   "id": "3f8fac24",
   "metadata": {},
   "outputs": [
    {
     "data": {
      "image/png": "[encoded data removed]",
      "text/plain": [
       "<Figure size 864x432 with 1 Axes>"
      ]
     },
     "metadata": {
      "needs_background": "light"
     },
     "output_type": "display_data"
    }
   ],
   "source": [
    "f = plt.figure()\n",
    "f.set_figwidth(12)\n",
    "f.set_figheight(6)\n",
    "plt.scatter(X1[:,0],X1[:,1], color='red', marker= 'o' , label ='Train Class 1')\n",
    "plt.scatter(X2[:,0],X2[:,1], color='black', marker= '*' , label ='Train Class 2')\n",
    "plt.scatter(mean1[0],mean1[1], color='red', marker= 'v' , label ='Mean Class 1')\n",
    "plt.scatter(mean2[0],mean2[1], color='black', marker= 's' , label ='Mean Class 2')\n",
    "plt.scatter(XL1[:,0],XL1[:,1], color='red', marker= 'P' , label ='Test Class 1')\n",
    "plt.scatter(XL2[:,0],XL2[:,1], color='black', marker= 'X' , label ='Test Class 2')\n",
    "plt.plot(np.array(x),np.array(y), color = 'red', linestyle='--',label = 'Decision Boundary')\n",
    "plt.legend(loc ='upper center',ncol=3,fontsize =9)\n",
    "plt.show()"
   ]
  },
  {
   "cell_type": "markdown",
   "id": "3a2da935",
   "metadata": {},
   "source": [
    "# Accuracy Calculation"
   ]
  },
  {
   "cell_type": "code",
   "execution_count": 8,
   "id": "114cf168",
   "metadata": {},
   "outputs": [
    {
     "name": "stdout",
     "output_type": "stream",
     "text": [
      "Accracy =  0.8571428571428571\n"
     ]
    }
   ],
   "source": [
    "cnt = 0\n",
    "for i in range(len(X_val)):\n",
    "    if Y_val[i] == preds[i]:\n",
    "        cnt +=1\n",
    "print('Accracy = ',cnt/len(X_val))"
   ]
  }
 ],
 "metadata": {
  "kernelspec": {
   "display_name": "Python 3",
   "language": "python",
   "name": "python3"
  },
  "language_info": {
   "codemirror_mode": {
    "name": "ipython",
    "version": 3
   },
   "file_extension": ".py",
   "mimetype": "text/x-python",
   "name": "python",
   "nbconvert_exporter": "python",
   "pygments_lexer": "ipython3",
   "version": "3.8.8"
  }
 },
 "nbformat": 4,
 "nbformat_minor": 5
}
