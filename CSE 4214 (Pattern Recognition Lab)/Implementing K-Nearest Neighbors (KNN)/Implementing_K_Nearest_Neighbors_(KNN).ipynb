{
 "cells": [
  {
   "cell_type": "code",
   "execution_count": 14,
   "metadata": {
    "id": "ureL2B1CI2OO"
   },
   "outputs": [],
   "source": [
    "import numpy as np\n",
    "import pandas as pd\n",
    "import matplotlib.pyplot as plt"
   ]
  },
  {
   "cell_type": "code",
   "execution_count": 15,
   "metadata": {
    "id": "_DTcpx01I39B"
   },
   "outputs": [],
   "source": [
    "df = pd.read_csv('Implementing_K_Nearest_Neighbors_(KNN)_train.txt', sep=\",\", header=None, dtype='int64')\n",
    "arr = df.values"
   ]
  },
  {
   "cell_type": "code",
   "execution_count": 16,
   "metadata": {
    "id": "jc32G92WI6lV"
   },
   "outputs": [],
   "source": [
    "df2 = pd.read_csv('Implementing_K_Nearest_Neighbors_(KNN)_test.txt', sep=\",\", header=None, dtype='int64')\n",
    "test = df2.values"
   ]
  },
  {
   "cell_type": "code",
   "execution_count": 17,
   "metadata": {
    "id": "aJpA5envKBq1"
   },
   "outputs": [],
   "source": [
    "w1x = []\n",
    "w1y = []\n",
    "w2x = []\n",
    "w2y = []"
   ]
  },
  {
   "cell_type": "code",
   "execution_count": 18,
   "metadata": {
    "id": "jrDZXTooKDrV"
   },
   "outputs": [],
   "source": [
    "for i in range(len(arr)):\n",
    "\n",
    "    if arr[i][2] == 1:\n",
    "        w1x.append(arr[i][0])\n",
    "        w1y.append(arr[i][1])\n",
    "    else:\n",
    "        w2x.append(arr[i][0])\n",
    "        w2y.append(arr[i][1])\n"
   ]
  },
  {
   "cell_type": "code",
   "execution_count": 34,
   "metadata": {
    "id": "WjtgKOU0KJSK"
   },
   "outputs": [],
   "source": [
    "list_f = np.empty((0, 4), int)"
   ]
  },
  {
   "cell_type": "code",
   "execution_count": 35,
   "metadata": {
    "colab": {
     "base_uri": "https://localhost:8080/"
    },
    "id": "v0W7CotMKLxl",
    "outputId": "f6281d7b-82e6-4132-d31a-31d1c63bd677"
   },
   "outputs": [
    {
     "name": "stdout",
     "output_type": "stream",
     "text": [
      "[[3 7\n",
      "  list([4.0, 5.0, 4.242640687119285, 4.47213595499958, 4.123105625617661, 3.0, 3.1622776601683795, 3.0, 4.123105625617661, 5.0, 4.123105625617661, 4.0, 3.1622776601683795, 3.605551275463989])\n",
      "  list([1, 1, 1, 1, 1, 1, 1, 2, 2, 2, 2, 2, 2, 2])]\n",
      " [7 7\n",
      "  list([0.0, 3.0, 3.1622776601683795, 2.0, 1.0, 1.0, 1.4142135623730951, 5.0, 6.4031242374328485, 6.4031242374328485, 5.0, 5.656854249492381, 4.242640687119285, 6.708203932499369])\n",
      "  list([1, 1, 1, 1, 1, 1, 1, 2, 2, 2, 2, 2, 2, 2])]\n",
      " [4 3\n",
      "  list([5.0, 3.1622776601683795, 2.23606797749979, 3.605551275463989, 4.242640687119285, 4.47213595499958, 3.605551275463989, 1.4142135623730951, 2.0, 1.4142135623730951, 0.0, 1.0, 1.0, 3.1622776601683795])\n",
      "  list([1, 1, 1, 1, 1, 1, 1, 2, 2, 2, 2, 2, 2, 2])]\n",
      " [2 8\n",
      "  list([5.0990195135927845, 6.4031242374328485, 5.656854249492381, 5.830951894845301, 5.385164807134504, 4.123105625617661, 4.47213595499958, 4.123105625617661, 5.0, 6.082762530298219, 5.385164807134504, 5.0990195135927845, 4.47213595499958, 4.123105625617661])\n",
      "  list([1, 1, 1, 1, 1, 1, 1, 2, 2, 2, 2, 2, 2, 2])]\n",
      " [3 5\n",
      "  list([4.47213595499958, 4.123105625617661, 3.1622776601683795, 4.0, 4.123105625617661, 3.605551275463989, 3.1622776601683795, 1.0, 2.23606797749979, 3.0, 2.23606797749979, 2.0, 1.4142135623730951, 2.23606797749979])\n",
      "  list([1, 1, 1, 1, 1, 1, 1, 2, 2, 2, 2, 2, 2, 2])]\n",
      " [1 2\n",
      "  list([7.810249675906654, 6.324555320336759, 5.385164807134504, 6.708203932499369, 7.211102550927978, 7.0710678118654755, 6.4031242374328485, 2.8284271247461903, 1.4142135623730951, 2.0, 3.1622776601683795, 2.23606797749979, 3.605551275463989, 2.0])\n",
      "  list([1, 1, 1, 1, 1, 1, 1, 2, 2, 2, 2, 2, 2, 2])]\n",
      " [4 8\n",
      "  list([3.1622776601683795, 5.0, 4.47213595499958, 4.242640687119285, 3.605551275463989, 2.23606797749979, 2.8284271247461903, 4.123105625617661, 5.385164807134504, 6.082762530298219, 5.0, 5.0990195135927845, 4.0, 5.0])\n",
      "  list([1, 1, 1, 1, 1, 1, 1, 2, 2, 2, 2, 2, 2, 2])]\n",
      " [8 3\n",
      "  list([4.123105625617661, 1.4142135623730951, 2.23606797749979, 2.23606797749979, 3.1622776601683795, 4.47213595499958, 3.605551275463989, 5.0990195135927845, 6.0, 5.0990195135927845, 4.0, 5.0, 4.123105625617661, 7.0710678118654755])\n",
      "  list([1, 1, 1, 1, 1, 1, 1, 2, 2, 2, 2, 2, 2, 2])]\n",
      " [8 4\n",
      "  list([3.1622776601683795, 1.0, 2.0, 1.4142135623730951, 2.23606797749979, 3.605551275463989, 2.8284271247461903, 5.0, 6.082762530298219, 5.385164807134504, 4.123105625617661, 5.0990195135927845, 4.0, 7.0])\n",
      "  list([1, 1, 1, 1, 1, 1, 1, 2, 2, 2, 2, 2, 2, 2])]]\n"
     ]
    },
    {
     "name": "stderr",
     "output_type": "stream",
     "text": [
      "<ipython-input-35-483f07092cab>:11: VisibleDeprecationWarning: Creating an ndarray from ragged nested sequences (which is a list-or-tuple of lists-or-tuples-or ndarrays with different lengths or shapes) is deprecated. If you meant to do this, you must specify 'dtype=object' when creating the ndarray.\n",
      "  list_f = np.append(list_f, np.array([[test[i][0], test[i][1], list2, class_1]]), 0)\n"
     ]
    }
   ],
   "source": [
    "for i in range(len(test)):\n",
    "    list2 = []\n",
    "    class_1 = []\n",
    "\n",
    "    for j in range(len(arr)):\n",
    "            val1 = np.power((test[i][0] - arr[j][0]), 2)\n",
    "            val2 = np.power((test[i][1] - arr[j][1]), 2)\n",
    "            distance = np.sqrt(val1 + val2)\n",
    "            list2.append(distance)\n",
    "            class_1.append(arr[j][2])\n",
    "    list_f = np.append(list_f, np.array([[test[i][0], test[i][1], list2, class_1]]), 0)\n",
    "#print(list_f)"
   ]
  },
  {
   "cell_type": "code",
   "execution_count": 21,
   "metadata": {
    "colab": {
     "base_uri": "https://localhost:8080/"
    },
    "id": "EGEkCwL3KN8A",
    "outputId": "a0867cfa-93cd-4c67-85b5-f87448fe7430"
   },
   "outputs": [
    {
     "name": "stdout",
     "output_type": "stream",
     "text": [
      "Value of K: 3\n"
     ]
    }
   ],
   "source": [
    "predicted_list = []\n",
    "k = int(input(\"Value of K: \"))"
   ]
  },
  {
   "cell_type": "code",
   "execution_count": 22,
   "metadata": {
    "id": "-ZmUnClvKPqm"
   },
   "outputs": [],
   "source": [
    "def sort(arr, arr2):\n",
    "    n = len(arr)\n",
    "    for i in range(n):\n",
    "        for j in range(0, n-i-1):\n",
    "            if arr[j] > arr[j+1]:\n",
    "                arr[j], arr[j+1] = arr[j+1], arr[j]\n",
    "                arr2[j], arr2[j+1] = arr2[j+1], arr2[j]\n"
   ]
  },
  {
   "cell_type": "code",
   "execution_count": 23,
   "metadata": {
    "id": "isuHFr28KSx_"
   },
   "outputs": [],
   "source": [
    "list_f2 = np.empty((0, 3), int)\n",
    "\n",
    "for i in range(len(list_f)):\n",
    "    sort(list_f[i][2], list_f[i][3])\n",
    "    sort_dis = list_f[i][2]\n",
    "    sort_class = list_f[i][3]\n",
    "    c1, c2 = 0, 0\n",
    "\n",
    "    for j in range(k):\n",
    "        if sort_class[j] == 1:\n",
    "            c1 = c1+1\n",
    "        else:\n",
    "            c2 = c2+1\n",
    "\n",
    "    if c1 > c2:\n",
    "        list_f2 = np.append(list_f2, np.array([[list_f[i][0], list_f[i][1], 1]]), 0)\n",
    "        predicted_list.append(1)\n",
    "    else:\n",
    "        list_f2 = np.append(list_f2, np.array([[list_f[i][0], list_f[i][1], 2]]), 0)\n",
    "        predicted_list.append(2)\n"
   ]
  },
  {
   "cell_type": "code",
   "execution_count": 24,
   "metadata": {
    "id": "XMp_AhclKW7J"
   },
   "outputs": [],
   "source": [
    "\n",
    "f = open(\"prediction.txt\", \"w\")\n",
    "\n",
    "for i in range(len(list_f)):\n",
    "    f.write(\"Test point: %d, %d\\n\" % (list_f[i][0], list_f[i][1]))\n",
    "    dis = list_f[i][2]\n",
    "    cls = list_f[i][3]\n",
    "\n",
    "    for j in range(k):\n",
    "        f.write(\"Distance %d: %f \\t Class: %d \\n\" % ((j+1), dis[j], cls[j]))\n",
    "    f.write(\"Predicted class:%d \\n\\n\" % (predicted_list[i]))\n",
    "\n",
    "f.close()"
   ]
  },
  {
   "cell_type": "code",
   "execution_count": 25,
   "metadata": {
    "id": "w6D4suuYKZTb"
   },
   "outputs": [],
   "source": [
    "w1x_new = []\n",
    "w1y_new = []\n",
    "w2x_new = []\n",
    "w2y_new = []\n",
    "\n",
    "for i in range(len(list_f2)):\n",
    "    if list_f2[i][2] == 1:\n",
    "        w1x_new.append(list_f2[i][0])\n",
    "        w1y_new.append(list_f2[i][1])\n",
    "    elif list_f2[i][2] == 2:\n",
    "        w2x_new.append(list_f2[i][0])\n",
    "        w2y_new.append(list_f2[i][1])\n"
   ]
  },
  {
   "cell_type": "code",
   "execution_count": 26,
   "metadata": {
    "colab": {
     "base_uri": "https://localhost:8080/",
     "height": 281
    },
    "id": "x3XLS3g0IP-p",
    "outputId": "cbced7d2-feba-4ece-a487-dedae23bb313"
   },
   "outputs": [
    {
     "data": {
      "image/png": "[encoded data removed]",
      "text/plain": [
       "<Figure size 432x288 with 1 Axes>"
      ]
     },
     "metadata": {
      "needs_background": "light"
     },
     "output_type": "display_data"
    }
   ],
   "source": [
    "plt.plot(w1x, w1y, '+r', label='Class1 train')\n",
    "plt.plot(w2x, w2y, 'ob', label='Class2 train')\n",
    "plt.plot(w1x_new, w1y_new, '*g', label='Class1 classified')\n",
    "plt.plot(w2x_new, w2y_new, '^y', label='Class2 classified')\n",
    "\n",
    "plt.title('K-Nearest Neighbors(KNN)')\n",
    "plt.legend()\n",
    "plt.show()\n"
   ]
  }
 ],
 "metadata": {
  "accelerator": "GPU",
  "colab": {
   "collapsed_sections": [],
   "name": "Implementing K-Nearest Neighbors (KNN).ipynb",
   "provenance": []
  },
  "kernelspec": {
   "display_name": "Python 3",
   "language": "python",
   "name": "python3"
  },
  "language_info": {
   "codemirror_mode": {
    "name": "ipython",
    "version": 3
   },
   "file_extension": ".py",
   "mimetype": "text/x-python",
   "name": "python",
   "nbconvert_exporter": "python",
   "pygments_lexer": "ipython3",
   "version": "3.8.8"
  }
 },
 "nbformat": 4,
 "nbformat_minor": 1
}
